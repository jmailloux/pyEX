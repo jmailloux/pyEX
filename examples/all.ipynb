{
 "cells": [
  {
   "cell_type": "code",
   "execution_count": 1,
   "metadata": {},
   "outputs": [],
   "source": [
    "import pyEX\n",
    "# c = pyEX.Client()\n",
    "c = pyEX.Client(version='sandbox')"
   ]
  },
  {
   "cell_type": "markdown",
   "metadata": {},
   "source": [
    "# Symbols data"
   ]
  },
  {
   "cell_type": "code",
   "execution_count": 2,
   "metadata": {},
   "outputs": [
    {
     "output_type": "execute_result",
     "data": {
      "text/plain": [
       "       exchange exchangeSuffix                   exchangeName  \\\n",
       "symbol                                                          \n",
       "A           SNY             UN  H TI EC . OSCGORYNKKXNWCE,EAN   \n",
       "AA          SYN             NU  KHR KAOYNGS CEXI CNTW, .NEEOC   \n",
       "AAA       ASUCP             PU                      EYASCAN R   \n",
       "AAAU      PASCU             PU                      YAE ARNCS   \n",
       "AAC=        NYS             UN   .EEK OXYC K,NNESA IHTRGCCWON   \n",
       "\n",
       "                                                     name       date  type  \\\n",
       "symbol                                                                       \n",
       "A                               lecoiIoinshTnn eAtlgg.ce  2021-03-07    cs   \n",
       "AA                                             AlcCpooa r 2021-03-07    cs   \n",
       "AAA     -t usTdC doyr  OAtFPsrneoFrtEi  siisTLBFt  udA... 2021-03-07    et   \n",
       "AAAU    laas oSdschih -aGid lmncy rPealacach hmlPFlE d... 2021-03-07    et   \n",
       "AAC=    u tsn o)tosrhAdi isp or ScUiC(a reaotrA q-arr&... 2021-03-07  None   \n",
       "\n",
       "                       iexId region currency  isEnabled          figi  \\\n",
       "symbol                                                                  \n",
       "A       IEX_46574843354B2D52     US      USD       True  3D0GB2B6C0V0   \n",
       "AA      IEX_4238333734532D52     US      USD       True  33H0DBB3TB0G   \n",
       "AAA     IEX_5030314338392D52     US      USD       True  0P48G50BBSXF   \n",
       "AAAU    IEX_474B433136332D52     US      USD       True  P70XX08BB2GL   \n",
       "AAC=                    None     US      USD       True  0YC038GB6YBX   \n",
       "\n",
       "            cik                   lei  \n",
       "symbol                                 \n",
       "A       1132739  R22A0YQXMI77XUGWP8W9  \n",
       "AA      1737261  04PT93Z162F5W1UE290W  \n",
       "AAA     1727862                  None  \n",
       "AAAU    1750268                  None  \n",
       "AAC=    1852451                  None  "
      ],
      "text/html": "<div>\n<style scoped>\n    .dataframe tbody tr th:only-of-type {\n        vertical-align: middle;\n    }\n\n    .dataframe tbody tr th {\n        vertical-align: top;\n    }\n\n    .dataframe thead th {\n        text-align: right;\n    }\n</style>\n<table border=\"1\" class=\"dataframe\">\n  <thead>\n    <tr style=\"text-align: right;\">\n      <th></th>\n      <th>exchange</th>\n      <th>exchangeSuffix</th>\n      <th>exchangeName</th>\n      <th>name</th>\n      <th>date</th>\n      <th>type</th>\n      <th>iexId</th>\n      <th>region</th>\n      <th>currency</th>\n      <th>isEnabled</th>\n      <th>figi</th>\n      <th>cik</th>\n      <th>lei</th>\n    </tr>\n    <tr>\n      <th>symbol</th>\n      <th></th>\n      <th></th>\n      <th></th>\n      <th></th>\n      <th></th>\n      <th></th>\n      <th></th>\n      <th></th>\n      <th></th>\n      <th></th>\n      <th></th>\n      <th></th>\n      <th></th>\n    </tr>\n  </thead>\n  <tbody>\n    <tr>\n      <th>A</th>\n      <td>SNY</td>\n      <td>UN</td>\n      <td>H TI EC . OSCGORYNKKXNWCE,EAN</td>\n      <td>lecoiIoinshTnn eAtlgg.ce</td>\n      <td>2021-03-07</td>\n      <td>cs</td>\n      <td>IEX_46574843354B2D52</td>\n      <td>US</td>\n      <td>USD</td>\n      <td>True</td>\n      <td>3D0GB2B6C0V0</td>\n      <td>1132739</td>\n      <td>R22A0YQXMI77XUGWP8W9</td>\n    </tr>\n    <tr>\n      <th>AA</th>\n      <td>SYN</td>\n      <td>NU</td>\n      <td>KHR KAOYNGS CEXI CNTW, .NEEOC</td>\n      <td>AlcCpooa r</td>\n      <td>2021-03-07</td>\n      <td>cs</td>\n      <td>IEX_4238333734532D52</td>\n      <td>US</td>\n      <td>USD</td>\n      <td>True</td>\n      <td>33H0DBB3TB0G</td>\n      <td>1737261</td>\n      <td>04PT93Z162F5W1UE290W</td>\n    </tr>\n    <tr>\n      <th>AAA</th>\n      <td>ASUCP</td>\n      <td>PU</td>\n      <td>EYASCAN R</td>\n      <td>-t usTdC doyr  OAtFPsrneoFrtEi  siisTLBFt  udA...</td>\n      <td>2021-03-07</td>\n      <td>et</td>\n      <td>IEX_5030314338392D52</td>\n      <td>US</td>\n      <td>USD</td>\n      <td>True</td>\n      <td>0P48G50BBSXF</td>\n      <td>1727862</td>\n      <td>None</td>\n    </tr>\n    <tr>\n      <th>AAAU</th>\n      <td>PASCU</td>\n      <td>PU</td>\n      <td>YAE ARNCS</td>\n      <td>laas oSdschih -aGid lmncy rPealacach hmlPFlE d...</td>\n      <td>2021-03-07</td>\n      <td>et</td>\n      <td>IEX_474B433136332D52</td>\n      <td>US</td>\n      <td>USD</td>\n      <td>True</td>\n      <td>P70XX08BB2GL</td>\n      <td>1750268</td>\n      <td>None</td>\n    </tr>\n    <tr>\n      <th>AAC=</th>\n      <td>NYS</td>\n      <td>UN</td>\n      <td>.EEK OXYC K,NNESA IHTRGCCWON</td>\n      <td>u tsn o)tosrhAdi isp or ScUiC(a reaotrA q-arr&amp;...</td>\n      <td>2021-03-07</td>\n      <td>None</td>\n      <td>None</td>\n      <td>US</td>\n      <td>USD</td>\n      <td>True</td>\n      <td>0YC038GB6YBX</td>\n      <td>1852451</td>\n      <td>None</td>\n    </tr>\n  </tbody>\n</table>\n</div>"
     },
     "metadata": {},
     "execution_count": 2
    }
   ],
   "source": [
    "c.symbolsDF().head()"
   ]
  },
  {
   "cell_type": "markdown",
   "metadata": {},
   "source": [
    "## Symbols"
   ]
  },
  {
   "cell_type": "code",
   "execution_count": 4,
   "metadata": {},
   "outputs": [
    {
     "output_type": "execute_result",
     "data": {
      "text/plain": [
       "       exchange exchangeSuffix                   exchangeName  \\\n",
       "symbol                                                          \n",
       "A           SNY             UN  H TI EC . OSCGORYNKKXNWCE,EAN   \n",
       "AA          SYN             NU  KHR KAOYNGS CEXI CNTW, .NEEOC   \n",
       "AAA       ASUCP             PU                      EYASCAN R   \n",
       "AAAU      PASCU             PU                      YAE ARNCS   \n",
       "AAC=        NYS             UN   .EEK OXYC K,NNESA IHTRGCCWON   \n",
       "\n",
       "                                                     name       date  type  \\\n",
       "symbol                                                                       \n",
       "A                               lecoiIoinshTnn eAtlgg.ce  2021-03-07    cs   \n",
       "AA                                             AlcCpooa r 2021-03-07    cs   \n",
       "AAA     -t usTdC doyr  OAtFPsrneoFrtEi  siisTLBFt  udA... 2021-03-07    et   \n",
       "AAAU    laas oSdschih -aGid lmncy rPealacach hmlPFlE d... 2021-03-07    et   \n",
       "AAC=    u tsn o)tosrhAdi isp or ScUiC(a reaotrA q-arr&... 2021-03-07  None   \n",
       "\n",
       "                       iexId region currency  isEnabled          figi  \\\n",
       "symbol                                                                  \n",
       "A       IEX_46574843354B2D52     US      USD       True  3D0GB2B6C0V0   \n",
       "AA      IEX_4238333734532D52     US      USD       True  33H0DBB3TB0G   \n",
       "AAA     IEX_5030314338392D52     US      USD       True  0P48G50BBSXF   \n",
       "AAAU    IEX_474B433136332D52     US      USD       True  P70XX08BB2GL   \n",
       "AAC=                    None     US      USD       True  0YC038GB6YBX   \n",
       "\n",
       "            cik                   lei  \n",
       "symbol                                 \n",
       "A       1132739  R22A0YQXMI77XUGWP8W9  \n",
       "AA      1737261  04PT93Z162F5W1UE290W  \n",
       "AAA     1727862                  None  \n",
       "AAAU    1750268                  None  \n",
       "AAC=    1852451                  None  "
      ],
      "text/html": "<div>\n<style scoped>\n    .dataframe tbody tr th:only-of-type {\n        vertical-align: middle;\n    }\n\n    .dataframe tbody tr th {\n        vertical-align: top;\n    }\n\n    .dataframe thead th {\n        text-align: right;\n    }\n</style>\n<table border=\"1\" class=\"dataframe\">\n  <thead>\n    <tr style=\"text-align: right;\">\n      <th></th>\n      <th>exchange</th>\n      <th>exchangeSuffix</th>\n      <th>exchangeName</th>\n      <th>name</th>\n      <th>date</th>\n      <th>type</th>\n      <th>iexId</th>\n      <th>region</th>\n      <th>currency</th>\n      <th>isEnabled</th>\n      <th>figi</th>\n      <th>cik</th>\n      <th>lei</th>\n    </tr>\n    <tr>\n      <th>symbol</th>\n      <th></th>\n      <th></th>\n      <th></th>\n      <th></th>\n      <th></th>\n      <th></th>\n      <th></th>\n      <th></th>\n      <th></th>\n      <th></th>\n      <th></th>\n      <th></th>\n      <th></th>\n    </tr>\n  </thead>\n  <tbody>\n    <tr>\n      <th>A</th>\n      <td>SNY</td>\n      <td>UN</td>\n      <td>H TI EC . OSCGORYNKKXNWCE,EAN</td>\n      <td>lecoiIoinshTnn eAtlgg.ce</td>\n      <td>2021-03-07</td>\n      <td>cs</td>\n      <td>IEX_46574843354B2D52</td>\n      <td>US</td>\n      <td>USD</td>\n      <td>True</td>\n      <td>3D0GB2B6C0V0</td>\n      <td>1132739</td>\n      <td>R22A0YQXMI77XUGWP8W9</td>\n    </tr>\n    <tr>\n      <th>AA</th>\n      <td>SYN</td>\n      <td>NU</td>\n      <td>KHR KAOYNGS CEXI CNTW, .NEEOC</td>\n      <td>AlcCpooa r</td>\n      <td>2021-03-07</td>\n      <td>cs</td>\n      <td>IEX_4238333734532D52</td>\n      <td>US</td>\n      <td>USD</td>\n      <td>True</td>\n      <td>33H0DBB3TB0G</td>\n      <td>1737261</td>\n      <td>04PT93Z162F5W1UE290W</td>\n    </tr>\n    <tr>\n      <th>AAA</th>\n      <td>ASUCP</td>\n      <td>PU</td>\n      <td>EYASCAN R</td>\n      <td>-t usTdC doyr  OAtFPsrneoFrtEi  siisTLBFt  udA...</td>\n      <td>2021-03-07</td>\n      <td>et</td>\n      <td>IEX_5030314338392D52</td>\n      <td>US</td>\n      <td>USD</td>\n      <td>True</td>\n      <td>0P48G50BBSXF</td>\n      <td>1727862</td>\n      <td>None</td>\n    </tr>\n    <tr>\n      <th>AAAU</th>\n      <td>PASCU</td>\n      <td>PU</td>\n      <td>YAE ARNCS</td>\n      <td>laas oSdschih -aGid lmncy rPealacach hmlPFlE d...</td>\n      <td>2021-03-07</td>\n      <td>et</td>\n      <td>IEX_474B433136332D52</td>\n      <td>US</td>\n      <td>USD</td>\n      <td>True</td>\n      <td>P70XX08BB2GL</td>\n      <td>1750268</td>\n      <td>None</td>\n    </tr>\n    <tr>\n      <th>AAC=</th>\n      <td>NYS</td>\n      <td>UN</td>\n      <td>.EEK OXYC K,NNESA IHTRGCCWON</td>\n      <td>u tsn o)tosrhAdi isp or ScUiC(a reaotrA q-arr&amp;...</td>\n      <td>2021-03-07</td>\n      <td>None</td>\n      <td>None</td>\n      <td>US</td>\n      <td>USD</td>\n      <td>True</td>\n      <td>0YC038GB6YBX</td>\n      <td>1852451</td>\n      <td>None</td>\n    </tr>\n  </tbody>\n</table>\n</div>"
     },
     "metadata": {},
     "execution_count": 4
    }
   ],
   "source": [
    "c.symbolsDF().head()"
   ]
  },
  {
   "cell_type": "code",
   "execution_count": 3,
   "metadata": {},
   "outputs": [
    {
     "output_type": "execute_result",
     "data": {
      "text/plain": [
       "[{'symbol': 'A',\n",
       "  'exchange': 'SNY',\n",
       "  'exchangeSuffix': 'UN',\n",
       "  'exchangeName': 'H TI EC . OSCGORYNKKXNWCE,EAN',\n",
       "  'name': 'lecoiIoinshTnn eAtlgg.ce ',\n",
       "  'date': '2021-03-07',\n",
       "  'type': 'cs',\n",
       "  'iexId': 'IEX_46574843354B2D52',\n",
       "  'region': 'US',\n",
       "  'currency': 'USD',\n",
       "  'isEnabled': True,\n",
       "  'figi': '3D0GB2B6C0V0',\n",
       "  'cik': '1132739',\n",
       "  'lei': 'R22A0YQXMI77XUGWP8W9'},\n",
       " {'symbol': 'AA',\n",
       "  'exchange': 'SYN',\n",
       "  'exchangeSuffix': 'NU',\n",
       "  'exchangeName': 'KHR KAOYNGS CEXI CNTW, .NEEOC',\n",
       "  'name': 'AlcCpooa r',\n",
       "  'date': '2021-03-07',\n",
       "  'type': 'cs',\n",
       "  'iexId': 'IEX_4238333734532D52',\n",
       "  'region': 'US',\n",
       "  'currency': 'USD',\n",
       "  'isEnabled': True,\n",
       "  'figi': '33H0DBB3TB0G',\n",
       "  'cik': '1737261',\n",
       "  'lei': '04PT93Z162F5W1UE290W'},\n",
       " {'symbol': 'AAA',\n",
       "  'exchange': 'ASUCP',\n",
       "  'exchangeSuffix': 'PU',\n",
       "  'exchangeName': 'EYASCAN R',\n",
       "  'name': '-t usTdC doyr  OAtFPsrneoFrtEi  siisTLBFt  udAi LFrn',\n",
       "  'date': '2021-03-07',\n",
       "  'type': 'et',\n",
       "  'iexId': 'IEX_5030314338392D52',\n",
       "  'region': 'US',\n",
       "  'currency': 'USD',\n",
       "  'isEnabled': True,\n",
       "  'figi': '0P48G50BBSXF',\n",
       "  'cik': '1727862',\n",
       "  'lei': None},\n",
       " {'symbol': 'AAAU',\n",
       "  'exchange': 'PASCU',\n",
       "  'exchangeSuffix': 'PU',\n",
       "  'exchangeName': 'YAE ARNCS',\n",
       "  'name': 'laas oSdschih -aGid lmncy rPealacach hmlPFlE d  oss dn yGoGhlSsaSGoE T',\n",
       "  'date': '2021-03-07',\n",
       "  'type': 'et',\n",
       "  'iexId': 'IEX_474B433136332D52',\n",
       "  'region': 'US',\n",
       "  'currency': 'USD',\n",
       "  'isEnabled': True,\n",
       "  'figi': 'P70XX08BB2GL',\n",
       "  'cik': '1750268',\n",
       "  'lei': None},\n",
       " {'symbol': 'AAC=',\n",
       "  'exchange': 'NYS',\n",
       "  'exchangeSuffix': 'UN',\n",
       "  'exchangeName': ' .EEK OXYC K,NNESA IHTRGCCWON',\n",
       "  'name': 'u tsn o)tosrhAdi isp or ScUiC(a reaotrA q-arr&is l1a iO 1nC/WAes5  n',\n",
       "  'date': '2021-03-07',\n",
       "  'type': None,\n",
       "  'iexId': None,\n",
       "  'region': 'US',\n",
       "  'currency': 'USD',\n",
       "  'isEnabled': True,\n",
       "  'figi': '0YC038GB6YBX',\n",
       "  'cik': '1852451',\n",
       "  'lei': None}]"
      ]
     },
     "metadata": {},
     "execution_count": 3
    }
   ],
   "source": [
    "c.symbols()[:5]"
   ]
  },
  {
   "cell_type": "code",
   "execution_count": 66,
   "metadata": {},
   "outputs": [
    {
     "output_type": "execute_result",
     "data": {
      "text/plain": [
       "['A', 'AA', 'AAA', 'AAAU', 'AAC=', 'AACG', 'AACQ', 'AACQU', 'AACQW', 'AACU']"
      ]
     },
     "metadata": {},
     "execution_count": 66
    }
   ],
   "source": [
    "c.symbolsList()[:10]\n",
    "#c.symbolsList()"
   ]
  },
  {
   "cell_type": "markdown",
   "metadata": {},
   "source": [
    "## IEX Symbols"
   ]
  },
  {
   "cell_type": "code",
   "execution_count": 36,
   "metadata": {},
   "outputs": [
    {
     "output_type": "execute_result",
     "data": {
      "text/plain": [
       "[{'symbol': 'A', 'date': '2021-03-05', 'isEnabled': True},\n",
       " {'symbol': 'AA', 'date': '2021-03-05', 'isEnabled': True},\n",
       " {'symbol': 'AAA', 'date': '2021-03-05', 'isEnabled': True},\n",
       " {'symbol': 'AAAU', 'date': '2021-03-05', 'isEnabled': True},\n",
       " {'symbol': 'AAC=', 'date': '2021-03-05', 'isEnabled': True}]"
      ]
     },
     "metadata": {},
     "execution_count": 36
    }
   ],
   "source": [
    "c.iexSymbols()[:5]"
   ]
  },
  {
   "cell_type": "code",
   "execution_count": 37,
   "metadata": {},
   "outputs": [
    {
     "output_type": "execute_result",
     "data": {
      "text/plain": [
       "             date  isEnabled\n",
       "symbol                      \n",
       "A      2021-03-05       True\n",
       "AA     2021-03-05       True\n",
       "AAA    2021-03-05       True\n",
       "AAAU   2021-03-05       True\n",
       "AAC=   2021-03-05       True"
      ],
      "text/html": "<div>\n<style scoped>\n    .dataframe tbody tr th:only-of-type {\n        vertical-align: middle;\n    }\n\n    .dataframe tbody tr th {\n        vertical-align: top;\n    }\n\n    .dataframe thead th {\n        text-align: right;\n    }\n</style>\n<table border=\"1\" class=\"dataframe\">\n  <thead>\n    <tr style=\"text-align: right;\">\n      <th></th>\n      <th>date</th>\n      <th>isEnabled</th>\n    </tr>\n    <tr>\n      <th>symbol</th>\n      <th></th>\n      <th></th>\n    </tr>\n  </thead>\n  <tbody>\n    <tr>\n      <th>A</th>\n      <td>2021-03-05</td>\n      <td>True</td>\n    </tr>\n    <tr>\n      <th>AA</th>\n      <td>2021-03-05</td>\n      <td>True</td>\n    </tr>\n    <tr>\n      <th>AAA</th>\n      <td>2021-03-05</td>\n      <td>True</td>\n    </tr>\n    <tr>\n      <th>AAAU</th>\n      <td>2021-03-05</td>\n      <td>True</td>\n    </tr>\n    <tr>\n      <th>AAC=</th>\n      <td>2021-03-05</td>\n      <td>True</td>\n    </tr>\n  </tbody>\n</table>\n</div>"
     },
     "metadata": {},
     "execution_count": 37
    }
   ],
   "source": [
    "c.iexSymbolsDF().head()"
   ]
  },
  {
   "cell_type": "code",
   "execution_count": 38,
   "metadata": {},
   "outputs": [
    {
     "output_type": "execute_result",
     "data": {
      "text/plain": [
       "['A', 'AA', 'AAA', 'AAAU', 'AAC=', 'AACG', 'AACQ', 'AACQU', 'AACQW', 'AADR']"
      ]
     },
     "metadata": {},
     "execution_count": 38
    }
   ],
   "source": [
    "c.iexSymbolsList()[:10]"
   ]
  },
  {
   "cell_type": "markdown",
   "metadata": {},
   "source": [
    "## International Symbols"
   ]
  },
  {
   "cell_type": "code",
   "execution_count": 39,
   "metadata": {},
   "outputs": [
    {
     "output_type": "execute_result",
     "data": {
      "text/plain": [
       "[{'symbol': '-S',\n",
       "  'exchange': 'NSY',\n",
       "  'exchangeSuffix': 'NU',\n",
       "  'exchangeName': '. HWEC NENC,NGOEO XCA TSKYIKR',\n",
       "  'name': 'i0.i.%Ta nMD6 tiD r2nnR  8NEdn5E2 aS5uI58/50/2c5l ElPea F1Uc- ',\n",
       "  'date': '2021-03-07',\n",
       "  'type': 'ps',\n",
       "  'iexId': None,\n",
       "  'region': 'US',\n",
       "  'currency': 'USD',\n",
       "  'isEnabled': True,\n",
       "  'figi': 'CRNLB60B04G7',\n",
       "  'cik': '1154763',\n",
       "  'lei': 'RHE7OP5RCF4REBRS855N'},\n",
       " {'symbol': '097098628',\n",
       "  'exchange': 'IRN',\n",
       "  'exchangeSuffix': '0',\n",
       "  'exchangeName': 'FNAIR',\n",
       "  'name': '1 8BoP/ -T0L 2PS/n2F5eSI 2U  ac0N naDLiC1 f 0L',\n",
       "  'date': '2021-03-07',\n",
       "  'type': 'ps',\n",
       "  'iexId': None,\n",
       "  'region': 'US',\n",
       "  'currency': 'USD',\n",
       "  'isEnabled': True,\n",
       "  'figi': '0X05SBBWGH7P',\n",
       "  'cik': None,\n",
       "  'lei': '9I3YYG05Z013SWSZ4C6E'},\n",
       " {'symbol': '1',\n",
       "  'exchange': 'SAN',\n",
       "  'exchangeSuffix': '0',\n",
       "  'exchangeName': ' LRTASSLADNA-M EKA Q',\n",
       "  'name': '-tsug.ro1eTsvers 4et L PeSia-tn nSllteRoir tfr  ahdF CoiFM t-pstii P',\n",
       "  'date': '2021-03-07',\n",
       "  'type': 'oef',\n",
       "  'iexId': None,\n",
       "  'region': 'US',\n",
       "  'currency': 'USD',\n",
       "  'isEnabled': True,\n",
       "  'figi': None,\n",
       "  'cik': '899465',\n",
       "  'lei': None},\n",
       " {'symbol': '46147E460',\n",
       "  'exchange': 'ANS',\n",
       "  'exchangeSuffix': '0',\n",
       "  'exchangeName': 'D-LSMAQ RAKTSL A NAE',\n",
       "  'name': 'Ia esnePn oetsa-v2t&i0rC ekt cpP dise UrMllSnarclc/oII2u0SSDtt Sr  a  ',\n",
       "  'date': '2021-03-07',\n",
       "  'type': 'oef',\n",
       "  'iexId': None,\n",
       "  'region': 'US',\n",
       "  'currency': 'USD',\n",
       "  'isEnabled': True,\n",
       "  'figi': '0GSL2Q0YBBNV',\n",
       "  'cik': '105473',\n",
       "  'lei': None},\n",
       " {'symbol': '48130V236',\n",
       "  'exchange': 'RNI',\n",
       "  'exchangeSuffix': '0',\n",
       "  'exchangeName': 'INARF',\n",
       "  'name': 'po ca22oLDPy C-    2nn 0lgm a6a rhPIi FT0/SPLiJSne5nL/C0aNU1MC s0a',\n",
       "  'date': '2021-03-07',\n",
       "  'type': 'ps',\n",
       "  'iexId': None,\n",
       "  'region': 'US',\n",
       "  'currency': 'USD',\n",
       "  'isEnabled': True,\n",
       "  'figi': '80QBH50BMGD6',\n",
       "  'cik': None,\n",
       "  'lei': 'FN579V98Y4FV60J0O3DJ'}]"
      ]
     },
     "metadata": {},
     "execution_count": 39
    }
   ],
   "source": [
    "c.internationalSymbols()[:5]"
   ]
  },
  {
   "cell_type": "code",
   "execution_count": 91,
   "metadata": {},
   "outputs": [
    {
     "output_type": "execute_result",
     "data": {
      "text/plain": [
       "4863"
      ]
     },
     "metadata": {},
     "execution_count": 91
    }
   ],
   "source": [
    "c.internationalSymbolsDF(\"CA\").head()\n",
    "symbols=c.internationalSymbolsDF(\"CA\")\n",
    "#symbols.keys()\n",
    "#symbols.loc[\"AAN-CV\"]\n",
    "len(symbols.index)\n"
   ]
  },
  {
   "cell_type": "code",
   "execution_count": 41,
   "metadata": {},
   "outputs": [
    {
     "output_type": "execute_result",
     "data": {
      "text/plain": [
       "['-S', '097098628', '1', '46147E460', '48130V236']"
      ]
     },
     "metadata": {},
     "execution_count": 41
    }
   ],
   "source": [
    "c.internationalSymbolsList()[:5]"
   ]
  },
  {
   "cell_type": "markdown",
   "metadata": {},
   "source": [
    "## FX Symbols"
   ]
  },
  {
   "cell_type": "code",
   "execution_count": 42,
   "metadata": {},
   "outputs": [
    {
     "output_type": "execute_result",
     "data": {
      "text/plain": [
       "{'currencies': [{'code': 'DAU', 'name': 'a irllAlaoranDtsu'},\n",
       "  {'code': 'SDU', 'name': 'loDS ra.Ul.'},\n",
       "  {'code': 'CDA', 'name': 'a CnidnlalraaoD'},\n",
       "  {'code': 'CHF', 'name': 'issSa ncFrw'},\n",
       "  {'code': 'UER', 'name': 'oEur'},\n",
       "  {'code': 'BPG', 'name': 'tBPri dusohin'},\n",
       "  {'code': 'YJP', 'name': 'JeaY paesenn'},\n",
       "  {'code': 'KON', 'name': 'iNogrorea ewnKn'},\n",
       "  {'code': 'DNZ', 'name': 'oDNewn aarZ eallld'},\n",
       "  {'code': 'SKE', 'name': 'aSrondKesi wh'},\n",
       "  {'code': 'ADE', 'name': 'DA. harEiU.m.'},\n",
       "  {'code': 'NGB', 'name': 'uaL givnaBlre'},\n",
       "  {'code': 'BDH', 'name': 'airni iDhraBna'},\n",
       "  {'code': 'CHN', 'name': ' HiY(bKCeiuanmi n)Rhs eenn'},\n",
       "  {'code': 'NYC', 'name': 'Yin Cmubaie sRnneenhi'},\n",
       "  {'code': 'CZK', 'name': 'h cCeouzKarn'},\n",
       "  {'code': 'DKK', 'name': 'aDnse oKnrih'},\n",
       "  {'code': 'KHD', 'name': 'ognaH nloo grKDl'},\n",
       "  {'code': 'FHU', 'name': 'oFntiaiHugran rn'},\n",
       "  {'code': 'RDI', 'name': 'a nnidspanuhiIoRe'},\n",
       "  {'code': 'ISL', 'name': 'w liearNeshekIS le'},\n",
       "  {'code': 'INR', 'name': 'diIRp uenena'},\n",
       "  {'code': 'WRK', 'name': 'KnoWroae n'},\n",
       "  {'code': 'KDW', 'name': ' iDawiKtnirau'},\n",
       "  {'code': 'NMX', 'name': ' xaPeiecosnM'},\n",
       "  {'code': 'YRM', 'name': 'aiiny giaRsMltang'},\n",
       "  {'code': 'PNL', 'name': 'lolPhts Zoyi'},\n",
       "  {'code': 'NOR', 'name': 'Lnuni emRoaa'},\n",
       "  {'code': 'RBU', 'name': 'sb auiRRslune'},\n",
       "  {'code': 'ASR', 'name': 'aSnAidlu a biryiaRa'},\n",
       "  {'code': 'GSD', 'name': 'rag eDnoripSlalo'},\n",
       "  {'code': 'THB', 'name': 'haatih BT'},\n",
       "  {'code': 'TRY', 'name': 'Lkiiarurs hT'},\n",
       "  {'code': 'DTW', 'name': 'aiTalrDoawnl '},\n",
       "  {'code': 'RAZ', 'name': 'udRiocrAhfanntaS  '},\n",
       "  {'code': 'BCT', 'name': '0'},\n",
       "  {'code': 'RPX', 'name': '0'},\n",
       "  {'code': 'LTC', 'name': '0'},\n",
       "  {'code': 'THE', 'name': '0'},\n",
       "  {'code': 'HBC', 'name': '0'}],\n",
       " 'pairs': [{'fromCurrency': 'UDA', 'toCurrency': 'UDS', 'symbol': 'AUDUSD'},\n",
       "  {'fromCurrency': 'CDA', 'toCurrency': 'CFH', 'symbol': 'CADCHF'},\n",
       "  {'fromCurrency': 'UER', 'toCurrency': 'DUA', 'symbol': 'EURAUD'},\n",
       "  {'fromCurrency': 'UER', 'toCurrency': 'DAC', 'symbol': 'EURCAD'},\n",
       "  {'fromCurrency': 'REU', 'toCurrency': 'HCF', 'symbol': 'EURCHF'},\n",
       "  {'fromCurrency': 'REU', 'toCurrency': 'GPB', 'symbol': 'EURGBP'},\n",
       "  {'fromCurrency': 'URE', 'toCurrency': 'PYJ', 'symbol': 'EURJPY'},\n",
       "  {'fromCurrency': 'ERU', 'toCurrency': 'OKN', 'symbol': 'EURNOK'},\n",
       "  {'fromCurrency': 'EUR', 'toCurrency': 'ZDN', 'symbol': 'EURNZD'},\n",
       "  {'fromCurrency': 'REU', 'toCurrency': 'EKS', 'symbol': 'EURSEK'},\n",
       "  {'fromCurrency': 'URE', 'toCurrency': 'UDS', 'symbol': 'EURUSD'},\n",
       "  {'fromCurrency': 'BPG', 'toCurrency': 'AUD', 'symbol': 'GBPAUD'},\n",
       "  {'fromCurrency': 'GBP', 'toCurrency': 'DCA', 'symbol': 'GBPCAD'},\n",
       "  {'fromCurrency': 'GBP', 'toCurrency': 'CHF', 'symbol': 'GBPCHF'},\n",
       "  {'fromCurrency': 'GBP', 'toCurrency': 'YPJ', 'symbol': 'GBPJPY'},\n",
       "  {'fromCurrency': 'GPB', 'toCurrency': 'KNO', 'symbol': 'GBPNOK'},\n",
       "  {'fromCurrency': 'PBG', 'toCurrency': 'NZD', 'symbol': 'GBPNZD'},\n",
       "  {'fromCurrency': 'PGB', 'toCurrency': 'SKE', 'symbol': 'GBPSEK'},\n",
       "  {'fromCurrency': 'PBG', 'toCurrency': 'UDS', 'symbol': 'GBPUSD'},\n",
       "  {'fromCurrency': 'JPY', 'toCurrency': 'ACD', 'symbol': 'JPYCAD'},\n",
       "  {'fromCurrency': 'YJP', 'toCurrency': 'HCF', 'symbol': 'JPYCHF'},\n",
       "  {'fromCurrency': 'DZN', 'toCurrency': 'UDS', 'symbol': 'NZDUSD'},\n",
       "  {'fromCurrency': 'DSU', 'toCurrency': 'DEA', 'symbol': 'USDAED'},\n",
       "  {'fromCurrency': 'SUD', 'toCurrency': 'GNB', 'symbol': 'USDBGN'},\n",
       "  {'fromCurrency': 'UDS', 'toCurrency': 'DHB', 'symbol': 'USDBHD'},\n",
       "  {'fromCurrency': 'DSU', 'toCurrency': 'CDA', 'symbol': 'USDCAD'},\n",
       "  {'fromCurrency': 'SDU', 'toCurrency': 'HCF', 'symbol': 'USDCHF'},\n",
       "  {'fromCurrency': 'DUS', 'toCurrency': 'CNH', 'symbol': 'USDCNH'},\n",
       "  {'fromCurrency': 'DSU', 'toCurrency': 'YNC', 'symbol': 'USDCNY'},\n",
       "  {'fromCurrency': 'USD', 'toCurrency': 'CKZ', 'symbol': 'USDCZK'},\n",
       "  {'fromCurrency': 'SDU', 'toCurrency': 'KDK', 'symbol': 'USDDKK'},\n",
       "  {'fromCurrency': 'DUS', 'toCurrency': 'HKD', 'symbol': 'USDHKD'},\n",
       "  {'fromCurrency': 'DUS', 'toCurrency': 'FUH', 'symbol': 'USDHUF'},\n",
       "  {'fromCurrency': 'DSU', 'toCurrency': 'DRI', 'symbol': 'USDIDR'},\n",
       "  {'fromCurrency': 'SDU', 'toCurrency': 'SLI', 'symbol': 'USDILS'},\n",
       "  {'fromCurrency': 'DSU', 'toCurrency': 'NIR', 'symbol': 'USDINR'},\n",
       "  {'fromCurrency': 'SDU', 'toCurrency': 'PJY', 'symbol': 'USDJPY'},\n",
       "  {'fromCurrency': 'DSU', 'toCurrency': 'KRW', 'symbol': 'USDKRW'},\n",
       "  {'fromCurrency': 'DUS', 'toCurrency': 'WKD', 'symbol': 'USDKWD'},\n",
       "  {'fromCurrency': 'USD', 'toCurrency': 'MNX', 'symbol': 'USDMXN'},\n",
       "  {'fromCurrency': 'DUS', 'toCurrency': 'MRY', 'symbol': 'USDMYR'},\n",
       "  {'fromCurrency': 'USD', 'toCurrency': 'NOK', 'symbol': 'USDNOK'},\n",
       "  {'fromCurrency': 'USD', 'toCurrency': 'PLN', 'symbol': 'USDPLN'},\n",
       "  {'fromCurrency': 'DSU', 'toCurrency': 'NOR', 'symbol': 'USDRON'},\n",
       "  {'fromCurrency': 'UDS', 'toCurrency': 'BRU', 'symbol': 'USDRUB'},\n",
       "  {'fromCurrency': 'SDU', 'toCurrency': 'RAS', 'symbol': 'USDSAR'},\n",
       "  {'fromCurrency': 'SUD', 'toCurrency': 'SEK', 'symbol': 'USDSEK'},\n",
       "  {'fromCurrency': 'DSU', 'toCurrency': 'GSD', 'symbol': 'USDSGD'},\n",
       "  {'fromCurrency': 'SDU', 'toCurrency': 'THB', 'symbol': 'USDTHB'},\n",
       "  {'fromCurrency': 'UDS', 'toCurrency': 'YRT', 'symbol': 'USDTRY'},\n",
       "  {'fromCurrency': 'DSU', 'toCurrency': 'WDT', 'symbol': 'USDTWD'},\n",
       "  {'fromCurrency': 'USD', 'toCurrency': 'AZR', 'symbol': 'USDZAR'},\n",
       "  {'fromCurrency': 'CTB', 'toCurrency': 'SDU', 'symbol': 'BTCUSD'},\n",
       "  {'fromCurrency': 'BCT', 'toCurrency': 'ERU', 'symbol': 'BTCEUR'},\n",
       "  {'fromCurrency': 'UER', 'toCurrency': 'SDU', 'symbol': 'EURUSD'},\n",
       "  {'fromCurrency': 'PXR', 'toCurrency': 'USD', 'symbol': 'XRPUSD'},\n",
       "  {'fromCurrency': 'XPR', 'toCurrency': 'REU', 'symbol': 'XRPEUR'},\n",
       "  {'fromCurrency': 'XPR', 'toCurrency': 'TBC', 'symbol': 'XRPBTC'},\n",
       "  {'fromCurrency': 'LCT', 'toCurrency': 'DUS', 'symbol': 'LTCUSD'},\n",
       "  {'fromCurrency': 'LCT', 'toCurrency': 'URE', 'symbol': 'LTCEUR'},\n",
       "  {'fromCurrency': 'LTC', 'toCurrency': 'CBT', 'symbol': 'LTCBTC'},\n",
       "  {'fromCurrency': 'HET', 'toCurrency': 'UDS', 'symbol': 'ETHUSD'},\n",
       "  {'fromCurrency': 'HTE', 'toCurrency': 'EUR', 'symbol': 'ETHEUR'},\n",
       "  {'fromCurrency': 'HET', 'toCurrency': 'BCT', 'symbol': 'ETHBTC'},\n",
       "  {'fromCurrency': 'CBH', 'toCurrency': 'SUD', 'symbol': 'BCHUSD'},\n",
       "  {'fromCurrency': 'HBC', 'toCurrency': 'EUR', 'symbol': 'BCHEUR'},\n",
       "  {'fromCurrency': 'CBH', 'toCurrency': 'TCB', 'symbol': 'BCHBTC'}]}"
      ]
     },
     "metadata": {},
     "execution_count": 42
    }
   ],
   "source": [
    "c.fxSymbols()"
   ]
  },
  {
   "cell_type": "code",
   "execution_count": 43,
   "metadata": {},
   "outputs": [
    {
     "output_type": "execute_result",
     "data": {
      "text/plain": [
       "                            name\n",
       "code                            \n",
       "ACD              iDna aroCnaaldl\n",
       "ARS          nRaA l aydSrauiiabi\n",
       "BCT                            0\n",
       "BHC                            0\n",
       "CHN   KYanii( R eniesb)nHhmen Cu"
      ],
      "text/html": "<div>\n<style scoped>\n    .dataframe tbody tr th:only-of-type {\n        vertical-align: middle;\n    }\n\n    .dataframe tbody tr th {\n        vertical-align: top;\n    }\n\n    .dataframe thead th {\n        text-align: right;\n    }\n</style>\n<table border=\"1\" class=\"dataframe\">\n  <thead>\n    <tr style=\"text-align: right;\">\n      <th></th>\n      <th>name</th>\n    </tr>\n    <tr>\n      <th>code</th>\n      <th></th>\n    </tr>\n  </thead>\n  <tbody>\n    <tr>\n      <th>ACD</th>\n      <td>iDna aroCnaaldl</td>\n    </tr>\n    <tr>\n      <th>ARS</th>\n      <td>nRaA l aydSrauiiabi</td>\n    </tr>\n    <tr>\n      <th>BCT</th>\n      <td>0</td>\n    </tr>\n    <tr>\n      <th>BHC</th>\n      <td>0</td>\n    </tr>\n    <tr>\n      <th>CHN</th>\n      <td>KYanii( R eniesb)nHhmen Cu</td>\n    </tr>\n  </tbody>\n</table>\n</div>"
     },
     "metadata": {},
     "execution_count": 43
    }
   ],
   "source": [
    "dfs = c.fxSymbolsDF()\n",
    "dfs[0].head()"
   ]
  },
  {
   "cell_type": "code",
   "execution_count": 44,
   "metadata": {},
   "outputs": [
    {
     "output_type": "execute_result",
     "data": {
      "text/plain": [
       "  fromCurrency toCurrency  symbol\n",
       "0          DAU        SUD  AUDUSD\n",
       "1          CAD        HCF  CADCHF\n",
       "2          URE        DUA  EURAUD\n",
       "3          URE        ADC  EURCAD\n",
       "4          EUR        HFC  EURCHF"
      ],
      "text/html": "<div>\n<style scoped>\n    .dataframe tbody tr th:only-of-type {\n        vertical-align: middle;\n    }\n\n    .dataframe tbody tr th {\n        vertical-align: top;\n    }\n\n    .dataframe thead th {\n        text-align: right;\n    }\n</style>\n<table border=\"1\" class=\"dataframe\">\n  <thead>\n    <tr style=\"text-align: right;\">\n      <th></th>\n      <th>fromCurrency</th>\n      <th>toCurrency</th>\n      <th>symbol</th>\n    </tr>\n  </thead>\n  <tbody>\n    <tr>\n      <th>0</th>\n      <td>DAU</td>\n      <td>SUD</td>\n      <td>AUDUSD</td>\n    </tr>\n    <tr>\n      <th>1</th>\n      <td>CAD</td>\n      <td>HCF</td>\n      <td>CADCHF</td>\n    </tr>\n    <tr>\n      <th>2</th>\n      <td>URE</td>\n      <td>DUA</td>\n      <td>EURAUD</td>\n    </tr>\n    <tr>\n      <th>3</th>\n      <td>URE</td>\n      <td>ADC</td>\n      <td>EURCAD</td>\n    </tr>\n    <tr>\n      <th>4</th>\n      <td>EUR</td>\n      <td>HFC</td>\n      <td>EURCHF</td>\n    </tr>\n  </tbody>\n</table>\n</div>"
     },
     "metadata": {},
     "execution_count": 44
    }
   ],
   "source": [
    "dfs[1].head()"
   ]
  },
  {
   "cell_type": "code",
   "execution_count": 45,
   "metadata": {},
   "outputs": [
    {
     "output_type": "execute_result",
     "data": {
      "text/plain": [
       "['DAU', 'SDU', 'CDA', 'CHF', 'UER']"
      ]
     },
     "metadata": {},
     "execution_count": 45
    }
   ],
   "source": [
    "l = c.fxSymbolsList()\n",
    "l[0][:5]"
   ]
  },
  {
   "cell_type": "code",
   "execution_count": 46,
   "metadata": {},
   "outputs": [
    {
     "output_type": "execute_result",
     "data": {
      "text/plain": [
       "['UDAUDS', 'CDACFH', 'UERDUA', 'UERDAC', 'REUHCF']"
      ]
     },
     "metadata": {},
     "execution_count": 46
    }
   ],
   "source": [
    "l[1][:5]"
   ]
  },
  {
   "cell_type": "markdown",
   "metadata": {},
   "source": [
    "## Options Symbols"
   ]
  },
  {
   "cell_type": "code",
   "execution_count": 47,
   "metadata": {},
   "outputs": [
    {
     "output_type": "execute_result",
     "data": {
      "text/plain": [
       "['HOV', '3LR-GF', '02Y-GS', 'IT6-GB', 'CYAD-FP']"
      ]
     },
     "metadata": {},
     "execution_count": 47
    }
   ],
   "source": [
    "d = c.optionsSymbols()\n",
    "list(d.keys())[:5]"
   ]
  },
  {
   "cell_type": "code",
   "execution_count": 48,
   "metadata": {},
   "outputs": [
    {
     "output_type": "execute_result",
     "data": {
      "text/plain": [
       "                                                    expirations\n",
       "00005-H1      [20201215, 20210112, 20210212, 20210318, 20210...\n",
       "00005-H2      [20201209, 20210104, 20210219, 20210317, 20210...\n",
       "00005-HK      [20201206, 20210104, 20210205, 20210308, 20210...\n",
       "000270-KP                                            [20210310]\n",
       "000380118-LX                     [20210310, 20210518, 20210609]"
      ],
      "text/html": "<div>\n<style scoped>\n    .dataframe tbody tr th:only-of-type {\n        vertical-align: middle;\n    }\n\n    .dataframe tbody tr th {\n        vertical-align: top;\n    }\n\n    .dataframe thead th {\n        text-align: right;\n    }\n</style>\n<table border=\"1\" class=\"dataframe\">\n  <thead>\n    <tr style=\"text-align: right;\">\n      <th></th>\n      <th>expirations</th>\n    </tr>\n  </thead>\n  <tbody>\n    <tr>\n      <th>00005-H1</th>\n      <td>[20201215, 20210112, 20210212, 20210318, 20210...</td>\n    </tr>\n    <tr>\n      <th>00005-H2</th>\n      <td>[20201209, 20210104, 20210219, 20210317, 20210...</td>\n    </tr>\n    <tr>\n      <th>00005-HK</th>\n      <td>[20201206, 20210104, 20210205, 20210308, 20210...</td>\n    </tr>\n    <tr>\n      <th>000270-KP</th>\n      <td>[20210310]</td>\n    </tr>\n    <tr>\n      <th>000380118-LX</th>\n      <td>[20210310, 20210518, 20210609]</td>\n    </tr>\n  </tbody>\n</table>\n</div>"
     },
     "metadata": {},
     "execution_count": 48
    }
   ],
   "source": [
    "c.optionsSymbolsDF().head()"
   ]
  },
  {
   "cell_type": "code",
   "execution_count": 49,
   "metadata": {},
   "outputs": [
    {
     "output_type": "execute_result",
     "data": {
      "text/plain": [
       "['HOV-203610',\n",
       " '3LR-GF-20210309',\n",
       " '02Y-GS-20210411',\n",
       " '02Y-GS-20210712',\n",
       " '02Y-GS-20211009']"
      ]
     },
     "metadata": {},
     "execution_count": 49
    }
   ],
   "source": [
    "c.optionsSymbolsList()[:5]"
   ]
  },
  {
   "cell_type": "markdown",
   "metadata": {},
   "source": [
    "## International Exchanges"
   ]
  },
  {
   "cell_type": "code",
   "execution_count": 50,
   "metadata": {},
   "outputs": [
    {
     "output_type": "execute_result",
     "data": {
      "text/plain": [
       "[{'exchange': 'BEXS',\n",
       "  'region': 'AZ',\n",
       "  'description': 'aBnuegc co EtkxkahS',\n",
       "  'mic': 'BESX',\n",
       "  'exchangeSuffix': 'llnu-'},\n",
       " {'exchange': 'BUD',\n",
       "  'region': 'IE',\n",
       "  'description': 'DntnulxuriEeb o',\n",
       "  'mic': 'DBUX',\n",
       "  'exchangeSuffix': 'DI-'},\n",
       " {'exchange': 'KKHGSH',\n",
       "  'region': 'HK',\n",
       "  'description': 'gmtioaoHnOooiHkne hgga g  Si htSeggKxtke   ofEhtoKScnadn cnC ocLnncn',\n",
       "  'mic': 'SCSH',\n",
       "  'exchangeSuffix': 'H-1'},\n",
       " {'exchange': 'ACR',\n",
       "  'region': 'VE',\n",
       "  'description': 'ckhsntEa cax aSaoCregc',\n",
       "  'mic': 'ABCV',\n",
       "  'exchangeSuffix': 'VS-'},\n",
       " {'exchange': 'LOC',\n",
       "  'region': 'LK',\n",
       "  'description': 'blomokCgxoanch e tEcSo',\n",
       "  'mic': 'COLX',\n",
       "  'exchangeSuffix': 'LS-'}]"
      ]
     },
     "metadata": {},
     "execution_count": 50
    }
   ],
   "source": [
    "c.internationalExchanges()[:5]"
   ]
  },
  {
   "cell_type": "code",
   "execution_count": 51,
   "metadata": {},
   "outputs": [
    {
     "output_type": "execute_result",
     "data": {
      "text/plain": [
       "  exchange region                                        description   mic  \\\n",
       "0     BEXS     AZ                                aBnuegc co EtkxkahS  BESX   \n",
       "1      BUD     IE                                    DntnulxuriEeb o  DBUX   \n",
       "2   KKHGSH     HK  gmtioaoHnOooiHkne hgga g  Si htSeggKxtke   ofE...  SCSH   \n",
       "3      ACR     VE                             ckhsntEa cax aSaoCregc  ABCV   \n",
       "4      LOC     LK                             blomokCgxoanch e tEcSo  COLX   \n",
       "\n",
       "  exchangeSuffix  \n",
       "0          llnu-  \n",
       "1            DI-  \n",
       "2            H-1  \n",
       "3            VS-  \n",
       "4            LS-  "
      ],
      "text/html": "<div>\n<style scoped>\n    .dataframe tbody tr th:only-of-type {\n        vertical-align: middle;\n    }\n\n    .dataframe tbody tr th {\n        vertical-align: top;\n    }\n\n    .dataframe thead th {\n        text-align: right;\n    }\n</style>\n<table border=\"1\" class=\"dataframe\">\n  <thead>\n    <tr style=\"text-align: right;\">\n      <th></th>\n      <th>exchange</th>\n      <th>region</th>\n      <th>description</th>\n      <th>mic</th>\n      <th>exchangeSuffix</th>\n    </tr>\n  </thead>\n  <tbody>\n    <tr>\n      <th>0</th>\n      <td>BEXS</td>\n      <td>AZ</td>\n      <td>aBnuegc co EtkxkahS</td>\n      <td>BESX</td>\n      <td>llnu-</td>\n    </tr>\n    <tr>\n      <th>1</th>\n      <td>BUD</td>\n      <td>IE</td>\n      <td>DntnulxuriEeb o</td>\n      <td>DBUX</td>\n      <td>DI-</td>\n    </tr>\n    <tr>\n      <th>2</th>\n      <td>KKHGSH</td>\n      <td>HK</td>\n      <td>gmtioaoHnOooiHkne hgga g  Si htSeggKxtke   ofE...</td>\n      <td>SCSH</td>\n      <td>H-1</td>\n    </tr>\n    <tr>\n      <th>3</th>\n      <td>ACR</td>\n      <td>VE</td>\n      <td>ckhsntEa cax aSaoCregc</td>\n      <td>ABCV</td>\n      <td>VS-</td>\n    </tr>\n    <tr>\n      <th>4</th>\n      <td>LOC</td>\n      <td>LK</td>\n      <td>blomokCgxoanch e tEcSo</td>\n      <td>COLX</td>\n      <td>LS-</td>\n    </tr>\n  </tbody>\n</table>\n</div>"
     },
     "metadata": {},
     "execution_count": 51
    }
   ],
   "source": [
    "c.internationalExchangesDF().head()"
   ]
  },
  {
   "cell_type": "markdown",
   "metadata": {},
   "source": [
    "## US Exchanges"
   ]
  },
  {
   "cell_type": "code",
   "execution_count": 52,
   "metadata": {},
   "outputs": [
    {
     "output_type": "execute_result",
     "data": {
      "text/plain": [
       "[{'mic': 'CRAX',\n",
       "  'name': ' crSEAaYN',\n",
       "  'longName': ' SCARANYE',\n",
       "  'tapeId': 'P',\n",
       "  'oatsId': 'PX',\n",
       "  'refId': 'SPE',\n",
       "  'type': 'equities'},\n",
       " {'mic': 'DEGX',\n",
       "  'name': 'XGoC EebD',\n",
       "  'longName': ' atqSeUD bgixeXhns uEo cCGeEEi',\n",
       "  'tapeId': 'K',\n",
       "  'oatsId': 'KX',\n",
       "  'refId': 'EXDG',\n",
       "  'type': 'equities'},\n",
       " {'mic': 'ABST',\n",
       "  'name': 'BCobZ eX',\n",
       "  'longName': 'heBSabcion qtiu sxC gUeeZ EXE',\n",
       "  'tapeId': 'Z',\n",
       "  'oatsId': 'ZX',\n",
       "  'refId': 'STBA',\n",
       "  'type': 'equities'},\n",
       " {'mic': 'AYBT',\n",
       "  'name': 'XY bCeoB',\n",
       "  'longName': 'Y Ecoga CeESniXeUt  Bhsbqiuxe',\n",
       "  'tapeId': 'Y',\n",
       "  'oatsId': 'YX',\n",
       "  'refId': 'YABT',\n",
       "  'type': 'equities'},\n",
       " {'mic': 'ADEG',\n",
       "  'name': 'E AeCDboG',\n",
       "  'longName': 'CEgoA Dnae iEsStbx qu heceGiUE',\n",
       "  'tapeId': 'J',\n",
       "  'oatsId': 'JX',\n",
       "  'refId': 'ADGE',\n",
       "  'type': 'equities'}]"
      ]
     },
     "metadata": {},
     "execution_count": 52
    }
   ],
   "source": [
    "c.exchanges()[:5]"
   ]
  },
  {
   "cell_type": "code",
   "execution_count": 53,
   "metadata": {},
   "outputs": [
    {
     "output_type": "execute_result",
     "data": {
      "text/plain": [
       "    mic       name                        longName tapeId oatsId refId  \\\n",
       "0  CRAX   crSEAaYN                        SCARANYE      P     PX   SPE   \n",
       "1  DEGX  XGoC EebD   atqSeUD bgixeXhns uEo cCGeEEi      K     KX  EXDG   \n",
       "2  ABST   BCobZ eX   heBSabcion qtiu sxC gUeeZ EXE      Z     ZX  STBA   \n",
       "3  AYBT   XY bCeoB   Y Ecoga CeESniXeUt  Bhsbqiuxe      Y     YX  YABT   \n",
       "4  ADEG  E AeCDboG  CEgoA Dnae iEsStbx qu heceGiUE      J     JX  ADGE   \n",
       "\n",
       "       type  \n",
       "0  equities  \n",
       "1  equities  \n",
       "2  equities  \n",
       "3  equities  \n",
       "4  equities  "
      ],
      "text/html": "<div>\n<style scoped>\n    .dataframe tbody tr th:only-of-type {\n        vertical-align: middle;\n    }\n\n    .dataframe tbody tr th {\n        vertical-align: top;\n    }\n\n    .dataframe thead th {\n        text-align: right;\n    }\n</style>\n<table border=\"1\" class=\"dataframe\">\n  <thead>\n    <tr style=\"text-align: right;\">\n      <th></th>\n      <th>mic</th>\n      <th>name</th>\n      <th>longName</th>\n      <th>tapeId</th>\n      <th>oatsId</th>\n      <th>refId</th>\n      <th>type</th>\n    </tr>\n  </thead>\n  <tbody>\n    <tr>\n      <th>0</th>\n      <td>CRAX</td>\n      <td>crSEAaYN</td>\n      <td>SCARANYE</td>\n      <td>P</td>\n      <td>PX</td>\n      <td>SPE</td>\n      <td>equities</td>\n    </tr>\n    <tr>\n      <th>1</th>\n      <td>DEGX</td>\n      <td>XGoC EebD</td>\n      <td>atqSeUD bgixeXhns uEo cCGeEEi</td>\n      <td>K</td>\n      <td>KX</td>\n      <td>EXDG</td>\n      <td>equities</td>\n    </tr>\n    <tr>\n      <th>2</th>\n      <td>ABST</td>\n      <td>BCobZ eX</td>\n      <td>heBSabcion qtiu sxC gUeeZ EXE</td>\n      <td>Z</td>\n      <td>ZX</td>\n      <td>STBA</td>\n      <td>equities</td>\n    </tr>\n    <tr>\n      <th>3</th>\n      <td>AYBT</td>\n      <td>XY bCeoB</td>\n      <td>Y Ecoga CeESniXeUt  Bhsbqiuxe</td>\n      <td>Y</td>\n      <td>YX</td>\n      <td>YABT</td>\n      <td>equities</td>\n    </tr>\n    <tr>\n      <th>4</th>\n      <td>ADEG</td>\n      <td>E AeCDboG</td>\n      <td>CEgoA Dnae iEsStbx qu heceGiUE</td>\n      <td>J</td>\n      <td>JX</td>\n      <td>ADGE</td>\n      <td>equities</td>\n    </tr>\n  </tbody>\n</table>\n</div>"
     },
     "metadata": {},
     "execution_count": 53
    }
   ],
   "source": [
    "c.exchangesDF().head()"
   ]
  },
  {
   "cell_type": "markdown",
   "metadata": {},
   "source": [
    "## US Holidays"
   ]
  },
  {
   "cell_type": "code",
   "execution_count": 54,
   "metadata": {},
   "outputs": [
    {
     "output_type": "execute_result",
     "data": {
      "text/plain": [
       "[{'date': '2021-04-02', 'settlementDate': '2021-03-27'}]"
      ]
     },
     "metadata": {},
     "execution_count": 54
    }
   ],
   "source": [
    "c.holidays()[:5]"
   ]
  },
  {
   "cell_type": "code",
   "execution_count": 55,
   "metadata": {},
   "outputs": [
    {
     "output_type": "execute_result",
     "data": {
      "text/plain": [
       "        date settlementDate\n",
       "0 2021-04-02     2021-03-27"
      ],
      "text/html": "<div>\n<style scoped>\n    .dataframe tbody tr th:only-of-type {\n        vertical-align: middle;\n    }\n\n    .dataframe tbody tr th {\n        vertical-align: top;\n    }\n\n    .dataframe thead th {\n        text-align: right;\n    }\n</style>\n<table border=\"1\" class=\"dataframe\">\n  <thead>\n    <tr style=\"text-align: right;\">\n      <th></th>\n      <th>date</th>\n      <th>settlementDate</th>\n    </tr>\n  </thead>\n  <tbody>\n    <tr>\n      <th>0</th>\n      <td>2021-04-02</td>\n      <td>2021-03-27</td>\n    </tr>\n  </tbody>\n</table>\n</div>"
     },
     "metadata": {},
     "execution_count": 55
    }
   ],
   "source": [
    "c.holidaysDF().head()"
   ]
  },
  {
   "cell_type": "markdown",
   "metadata": {},
   "source": [
    "## Sectors"
   ]
  },
  {
   "cell_type": "code",
   "execution_count": 56,
   "metadata": {},
   "outputs": [
    {
     "output_type": "execute_result",
     "data": {
      "text/plain": [
       "[{'name': 'cicun)OrrsolrtAebdcev a tpSin(heem isietPxi t'},\n",
       " {'name': 'isvaScimeCrreeo lcm'},\n",
       " {'name': 'Rtiraee Tadl'},\n",
       " {'name': 'Do intieriibvcseurSst'},\n",
       " {'name': 'ucdsIsest Pnirrose'}]"
      ]
     },
     "metadata": {},
     "execution_count": 56
    }
   ],
   "source": [
    "c.sectors()[:5]"
   ]
  },
  {
   "cell_type": "code",
   "execution_count": 57,
   "metadata": {},
   "outputs": [
    {
     "output_type": "execute_result",
     "data": {
      "text/plain": [
       "                                            name\n",
       "0  cicun)OrrsolrtAebdcev a tpSin(heem isietPxi t\n",
       "1                            isvaScimeCrreeo lcm\n",
       "2                                   Rtiraee Tadl\n",
       "3                          Do intieriibvcseurSst\n",
       "4                             ucdsIsest Pnirrose"
      ],
      "text/html": "<div>\n<style scoped>\n    .dataframe tbody tr th:only-of-type {\n        vertical-align: middle;\n    }\n\n    .dataframe tbody tr th {\n        vertical-align: top;\n    }\n\n    .dataframe thead th {\n        text-align: right;\n    }\n</style>\n<table border=\"1\" class=\"dataframe\">\n  <thead>\n    <tr style=\"text-align: right;\">\n      <th></th>\n      <th>name</th>\n    </tr>\n  </thead>\n  <tbody>\n    <tr>\n      <th>0</th>\n      <td>cicun)OrrsolrtAebdcev a tpSin(heem isietPxi t</td>\n    </tr>\n    <tr>\n      <th>1</th>\n      <td>isvaScimeCrreeo lcm</td>\n    </tr>\n    <tr>\n      <th>2</th>\n      <td>Rtiraee Tadl</td>\n    </tr>\n    <tr>\n      <th>3</th>\n      <td>Do intieriibvcseurSst</td>\n    </tr>\n    <tr>\n      <th>4</th>\n      <td>ucdsIsest Pnirrose</td>\n    </tr>\n  </tbody>\n</table>\n</div>"
     },
     "metadata": {},
     "execution_count": 57
    }
   ],
   "source": [
    "c.sectorsDF().head()"
   ]
  },
  {
   "cell_type": "markdown",
   "metadata": {},
   "source": [
    "## Tags"
   ]
  },
  {
   "cell_type": "code",
   "execution_count": 58,
   "metadata": {},
   "outputs": [
    {
     "output_type": "execute_result",
     "data": {
      "text/plain": [
       "[{'name': 'tshh ieea e rcFOalnniliVc'},\n",
       " {'name': 'vSgoeneir'},\n",
       " {'name': 'niunrLauMel-I escnti'},\n",
       " {'name': 'Soo  dtnpogsorsGeSi rt'},\n",
       " {'name': 'basricntSuaanhei aslildIWcn  nB ngdr gt eaearot nrPbtedsoPh'}]"
      ]
     },
     "metadata": {},
     "execution_count": 58
    }
   ],
   "source": [
    "c.tags()[:5]"
   ]
  },
  {
   "cell_type": "code",
   "execution_count": 59,
   "metadata": {},
   "outputs": [
    {
     "output_type": "execute_result",
     "data": {
      "text/plain": [
       "                                                name\n",
       "0                          tshh ieea e rcFOalnniliVc\n",
       "1                                          vSgoeneir\n",
       "2                               niunrLauMel-I escnti\n",
       "3                             Soo  dtnpogsorsGeSi rt\n",
       "4  basricntSuaanhei aslildIWcn  nB ngdr gt eaearo..."
      ],
      "text/html": "<div>\n<style scoped>\n    .dataframe tbody tr th:only-of-type {\n        vertical-align: middle;\n    }\n\n    .dataframe tbody tr th {\n        vertical-align: top;\n    }\n\n    .dataframe thead th {\n        text-align: right;\n    }\n</style>\n<table border=\"1\" class=\"dataframe\">\n  <thead>\n    <tr style=\"text-align: right;\">\n      <th></th>\n      <th>name</th>\n    </tr>\n  </thead>\n  <tbody>\n    <tr>\n      <th>0</th>\n      <td>tshh ieea e rcFOalnniliVc</td>\n    </tr>\n    <tr>\n      <th>1</th>\n      <td>vSgoeneir</td>\n    </tr>\n    <tr>\n      <th>2</th>\n      <td>niunrLauMel-I escnti</td>\n    </tr>\n    <tr>\n      <th>3</th>\n      <td>Soo  dtnpogsorsGeSi rt</td>\n    </tr>\n    <tr>\n      <th>4</th>\n      <td>basricntSuaanhei aslildIWcn  nB ngdr gt eaearo...</td>\n    </tr>\n  </tbody>\n</table>\n</div>"
     },
     "metadata": {},
     "execution_count": 59
    }
   ],
   "source": [
    "c.tagsDF().head()"
   ]
  },
  {
   "cell_type": "markdown",
   "metadata": {},
   "source": [
    "# Data Points API"
   ]
  },
  {
   "cell_type": "code",
   "execution_count": 60,
   "metadata": {},
   "outputs": [
    {
     "output_type": "execute_result",
     "data": {
      "text/plain": [
       "[{'key': 'DGS1MO',\n",
       "  'weight': 1000,\n",
       "  'description': '1-Month Treasury Rate (daily)',\n",
       "  'lastUpdated': '2021-03-07T23:00:15+00:00'},\n",
       " {'key': 'DGS1',\n",
       "  'weight': 1000,\n",
       "  'description': '1-Year Treasury Rate (daily)',\n",
       "  'lastUpdated': '2021-03-07T23:00:06+00:00'},\n",
       " {'key': 'DGS10',\n",
       "  'weight': 1000,\n",
       "  'description': '10-Year Treasury Rate (daily)',\n",
       "  'lastUpdated': '2021-03-07T23:00:03+00:00'},\n",
       " {'key': 'DGS2',\n",
       "  'weight': 1000,\n",
       "  'description': '2-Year Treasury Rate (daily)',\n",
       "  'lastUpdated': '2021-03-07T23:00:08+00:00'},\n",
       " {'key': 'DGS20',\n",
       "  'weight': 1000,\n",
       "  'description': '20-Year Treasury Rate (daily)',\n",
       "  'lastUpdated': '2021-03-07T23:00:20+00:00'}]"
      ]
     },
     "metadata": {},
     "execution_count": 60
    }
   ],
   "source": [
    "c.points()[:5]"
   ]
  },
  {
   "cell_type": "code",
   "execution_count": 61,
   "metadata": {},
   "outputs": [
    {
     "output_type": "execute_result",
     "data": {
      "text/plain": [
       "      key  weight                    description               lastUpdated\n",
       "0  DGS1MO    1000  1-Month Treasury Rate (daily) 2021-03-07 23:00:15+00:00\n",
       "1    DGS1    1000   1-Year Treasury Rate (daily) 2021-03-07 23:00:06+00:00\n",
       "2   DGS10    1000  10-Year Treasury Rate (daily) 2021-03-07 23:00:03+00:00\n",
       "3    DGS2    1000   2-Year Treasury Rate (daily) 2021-03-07 23:00:08+00:00\n",
       "4   DGS20    1000  20-Year Treasury Rate (daily) 2021-03-07 23:00:20+00:00"
      ],
      "text/html": "<div>\n<style scoped>\n    .dataframe tbody tr th:only-of-type {\n        vertical-align: middle;\n    }\n\n    .dataframe tbody tr th {\n        vertical-align: top;\n    }\n\n    .dataframe thead th {\n        text-align: right;\n    }\n</style>\n<table border=\"1\" class=\"dataframe\">\n  <thead>\n    <tr style=\"text-align: right;\">\n      <th></th>\n      <th>key</th>\n      <th>weight</th>\n      <th>description</th>\n      <th>lastUpdated</th>\n    </tr>\n  </thead>\n  <tbody>\n    <tr>\n      <th>0</th>\n      <td>DGS1MO</td>\n      <td>1000</td>\n      <td>1-Month Treasury Rate (daily)</td>\n      <td>2021-03-07 23:00:15+00:00</td>\n    </tr>\n    <tr>\n      <th>1</th>\n      <td>DGS1</td>\n      <td>1000</td>\n      <td>1-Year Treasury Rate (daily)</td>\n      <td>2021-03-07 23:00:06+00:00</td>\n    </tr>\n    <tr>\n      <th>2</th>\n      <td>DGS10</td>\n      <td>1000</td>\n      <td>10-Year Treasury Rate (daily)</td>\n      <td>2021-03-07 23:00:03+00:00</td>\n    </tr>\n    <tr>\n      <th>3</th>\n      <td>DGS2</td>\n      <td>1000</td>\n      <td>2-Year Treasury Rate (daily)</td>\n      <td>2021-03-07 23:00:08+00:00</td>\n    </tr>\n    <tr>\n      <th>4</th>\n      <td>DGS20</td>\n      <td>1000</td>\n      <td>20-Year Treasury Rate (daily)</td>\n      <td>2021-03-07 23:00:20+00:00</td>\n    </tr>\n  </tbody>\n</table>\n</div>"
     },
     "metadata": {},
     "execution_count": 61
    }
   ],
   "source": [
    "c.pointsDF().head()"
   ]
  },
  {
   "cell_type": "code",
   "execution_count": 62,
   "metadata": {},
   "outputs": [
    {
     "output_type": "execute_result",
     "data": {
      "text/plain": [
       "1.61"
      ]
     },
     "metadata": {},
     "execution_count": 62
    }
   ],
   "source": [
    "c.points(key='DGS10')"
   ]
  },
  {
   "cell_type": "code",
   "execution_count": 63,
   "metadata": {},
   "outputs": [
    {
     "output_type": "execute_result",
     "data": {
      "text/plain": [
       "                key  weight                     description  \\\n",
       "0  NEXTDIVIDENDDATE       1                                   \n",
       "1              BETA       1                                   \n",
       "2   ACCOUNTSPAYABLE    3000  Balance Sheet: accountsPayable   \n",
       "3    CAPITALSURPLUS    3000   Balance Sheet: capitalSurplus   \n",
       "4       COMMONSTOCK    3000      Balance Sheet: commonStock   \n",
       "\n",
       "                lastUpdated  \n",
       "0 2020-11-05 20:23:03+00:00  \n",
       "1 2021-03-07 09:10:42+00:00  \n",
       "2 2021-02-11 21:07:54+00:00  \n",
       "3 2021-02-11 21:07:54+00:00  \n",
       "4 2021-02-11 21:07:54+00:00  "
      ],
      "text/html": "<div>\n<style scoped>\n    .dataframe tbody tr th:only-of-type {\n        vertical-align: middle;\n    }\n\n    .dataframe tbody tr th {\n        vertical-align: top;\n    }\n\n    .dataframe thead th {\n        text-align: right;\n    }\n</style>\n<table border=\"1\" class=\"dataframe\">\n  <thead>\n    <tr style=\"text-align: right;\">\n      <th></th>\n      <th>key</th>\n      <th>weight</th>\n      <th>description</th>\n      <th>lastUpdated</th>\n    </tr>\n  </thead>\n  <tbody>\n    <tr>\n      <th>0</th>\n      <td>NEXTDIVIDENDDATE</td>\n      <td>1</td>\n      <td></td>\n      <td>2020-11-05 20:23:03+00:00</td>\n    </tr>\n    <tr>\n      <th>1</th>\n      <td>BETA</td>\n      <td>1</td>\n      <td></td>\n      <td>2021-03-07 09:10:42+00:00</td>\n    </tr>\n    <tr>\n      <th>2</th>\n      <td>ACCOUNTSPAYABLE</td>\n      <td>3000</td>\n      <td>Balance Sheet: accountsPayable</td>\n      <td>2021-02-11 21:07:54+00:00</td>\n    </tr>\n    <tr>\n      <th>3</th>\n      <td>CAPITALSURPLUS</td>\n      <td>3000</td>\n      <td>Balance Sheet: capitalSurplus</td>\n      <td>2021-02-11 21:07:54+00:00</td>\n    </tr>\n    <tr>\n      <th>4</th>\n      <td>COMMONSTOCK</td>\n      <td>3000</td>\n      <td>Balance Sheet: commonStock</td>\n      <td>2021-02-11 21:07:54+00:00</td>\n    </tr>\n  </tbody>\n</table>\n</div>"
     },
     "metadata": {},
     "execution_count": 63
    }
   ],
   "source": [
    "c.pointsDF('aapl').head()"
   ]
  },
  {
   "cell_type": "code",
   "execution_count": 64,
   "metadata": {},
   "outputs": [
    {
     "output_type": "error",
     "ename": "PyEXception",
     "evalue": "('Response 404 - ', 'Not found')",
     "traceback": [
      "\u001b[0;31m---------------------------------------------------------------------------\u001b[0m",
      "\u001b[0;31mPyEXception\u001b[0m                               Traceback (most recent call last)",
      "\u001b[0;32m<ipython-input-64-ec24edd78d85>\u001b[0m in \u001b[0;36m<module>\u001b[0;34m\u001b[0m\n\u001b[0;32m----> 1\u001b[0;31m \u001b[0mc\u001b[0m\u001b[0;34m.\u001b[0m\u001b[0mpoints\u001b[0m\u001b[0;34m(\u001b[0m\u001b[0;34m'aapl'\u001b[0m\u001b[0;34m,\u001b[0m \u001b[0;34m'QUOTE-LATESTPRICE'\u001b[0m\u001b[0;34m)\u001b[0m\u001b[0;34m\u001b[0m\u001b[0;34m\u001b[0m\u001b[0m\n\u001b[0m",
      "\u001b[0;32m/Library/Frameworks/Python.framework/Versions/3.9/lib/python3.9/site-packages/pyEX/client.py\u001b[0m in \u001b[0;36mbind\u001b[0;34m(self, *args, **kwargs)\u001b[0m\n\u001b[1;32m   1544\u001b[0m         \u001b[0;32mif\u001b[0m \u001b[0;32mnot\u001b[0m \u001b[0mmeth\u001b[0m\u001b[0;34m:\u001b[0m\u001b[0;34m\u001b[0m\u001b[0;34m\u001b[0m\u001b[0m\n\u001b[1;32m   1545\u001b[0m             \u001b[0;32mraise\u001b[0m \u001b[0mPyEXception\u001b[0m\u001b[0;34m(\u001b[0m\u001b[0;34m\"Must provide method!\"\u001b[0m\u001b[0;34m)\u001b[0m\u001b[0;34m\u001b[0m\u001b[0;34m\u001b[0m\u001b[0m\n\u001b[0;32m-> 1546\u001b[0;31m         \u001b[0;32mreturn\u001b[0m \u001b[0mmeth\u001b[0m\u001b[0;34m(\u001b[0m\u001b[0mtoken\u001b[0m\u001b[0;34m=\u001b[0m\u001b[0mself\u001b[0m\u001b[0;34m.\u001b[0m\u001b[0m_token\u001b[0m\u001b[0;34m,\u001b[0m \u001b[0mversion\u001b[0m\u001b[0;34m=\u001b[0m\u001b[0mself\u001b[0m\u001b[0;34m.\u001b[0m\u001b[0m_version\u001b[0m\u001b[0;34m,\u001b[0m \u001b[0;34m*\u001b[0m\u001b[0margs\u001b[0m\u001b[0;34m,\u001b[0m \u001b[0;34m**\u001b[0m\u001b[0mkwargs\u001b[0m\u001b[0;34m)\u001b[0m\u001b[0;34m\u001b[0m\u001b[0;34m\u001b[0m\u001b[0m\n\u001b[0m\u001b[1;32m   1547\u001b[0m \u001b[0;34m\u001b[0m\u001b[0m\n\u001b[1;32m   1548\u001b[0m     \u001b[0;32mdef\u001b[0m \u001b[0maccount\u001b[0m\u001b[0;34m(\u001b[0m\u001b[0mself\u001b[0m\u001b[0;34m,\u001b[0m \u001b[0;34m*\u001b[0m\u001b[0margs\u001b[0m\u001b[0;34m,\u001b[0m \u001b[0;34m**\u001b[0m\u001b[0mkwargs\u001b[0m\u001b[0;34m)\u001b[0m\u001b[0;34m:\u001b[0m\u001b[0;34m\u001b[0m\u001b[0;34m\u001b[0m\u001b[0m\n",
      "\u001b[0;32m/Library/Frameworks/Python.framework/Versions/3.9/lib/python3.9/site-packages/pyEX/points/points.py\u001b[0m in \u001b[0;36mpoints\u001b[0;34m(symbol, key, token, version, filter, format)\u001b[0m\n\u001b[1;32m     41\u001b[0m     \u001b[0m_raiseIfNotStr\u001b[0m\u001b[0;34m(\u001b[0m\u001b[0msymbol\u001b[0m\u001b[0;34m)\u001b[0m\u001b[0;34m\u001b[0m\u001b[0;34m\u001b[0m\u001b[0m\n\u001b[1;32m     42\u001b[0m     \u001b[0;32mif\u001b[0m \u001b[0mkey\u001b[0m\u001b[0;34m:\u001b[0m\u001b[0;34m\u001b[0m\u001b[0;34m\u001b[0m\u001b[0m\n\u001b[0;32m---> 43\u001b[0;31m         return _get(\n\u001b[0m\u001b[1;32m     44\u001b[0m             \u001b[0;34m\"data-points/{symbol}/{key}\"\u001b[0m\u001b[0;34m.\u001b[0m\u001b[0mformat\u001b[0m\u001b[0;34m(\u001b[0m\u001b[0msymbol\u001b[0m\u001b[0;34m=\u001b[0m\u001b[0msymbol\u001b[0m\u001b[0;34m,\u001b[0m \u001b[0mkey\u001b[0m\u001b[0;34m=\u001b[0m\u001b[0mkey\u001b[0m\u001b[0;34m)\u001b[0m\u001b[0;34m,\u001b[0m\u001b[0;34m\u001b[0m\u001b[0;34m\u001b[0m\u001b[0m\n\u001b[1;32m     45\u001b[0m             \u001b[0mtoken\u001b[0m\u001b[0;34m=\u001b[0m\u001b[0mtoken\u001b[0m\u001b[0;34m,\u001b[0m\u001b[0;34m\u001b[0m\u001b[0;34m\u001b[0m\u001b[0m\n",
      "\u001b[0;32m/Library/Frameworks/Python.framework/Versions/3.9/lib/python3.9/site-packages/pyEX/common/urls.py\u001b[0m in \u001b[0;36m_get\u001b[0;34m(url, token, version, filter, format)\u001b[0m\n\u001b[1;32m     50\u001b[0m     \u001b[0;32mif\u001b[0m \u001b[0mtoken\u001b[0m\u001b[0;34m:\u001b[0m\u001b[0;34m\u001b[0m\u001b[0;34m\u001b[0m\u001b[0m\n\u001b[1;32m     51\u001b[0m         \u001b[0;32mif\u001b[0m \u001b[0mversion\u001b[0m \u001b[0;34m==\u001b[0m \u001b[0;34m\"sandbox\"\u001b[0m\u001b[0;34m:\u001b[0m\u001b[0;34m\u001b[0m\u001b[0;34m\u001b[0m\u001b[0m\n\u001b[0;32m---> 52\u001b[0;31m             \u001b[0;32mreturn\u001b[0m \u001b[0m_getIEXCloudSandbox\u001b[0m\u001b[0;34m(\u001b[0m\u001b[0murl\u001b[0m\u001b[0;34m,\u001b[0m \u001b[0mtoken\u001b[0m\u001b[0;34m,\u001b[0m \u001b[0mversion\u001b[0m\u001b[0;34m,\u001b[0m \u001b[0mfilter\u001b[0m\u001b[0;34m,\u001b[0m \u001b[0mformat\u001b[0m\u001b[0;34m)\u001b[0m\u001b[0;34m\u001b[0m\u001b[0;34m\u001b[0m\u001b[0m\n\u001b[0m\u001b[1;32m     53\u001b[0m         \u001b[0;32mreturn\u001b[0m \u001b[0m_getIEXCloud\u001b[0m\u001b[0;34m(\u001b[0m\u001b[0murl\u001b[0m\u001b[0;34m,\u001b[0m \u001b[0mtoken\u001b[0m\u001b[0;34m,\u001b[0m \u001b[0mversion\u001b[0m\u001b[0;34m,\u001b[0m \u001b[0mfilter\u001b[0m\u001b[0;34m,\u001b[0m \u001b[0mformat\u001b[0m\u001b[0;34m)\u001b[0m\u001b[0;34m\u001b[0m\u001b[0;34m\u001b[0m\u001b[0m\n\u001b[1;32m     54\u001b[0m     \u001b[0;32mreturn\u001b[0m \u001b[0m_getOrig\u001b[0m\u001b[0;34m(\u001b[0m\u001b[0murl\u001b[0m\u001b[0;34m)\u001b[0m\u001b[0;34m\u001b[0m\u001b[0;34m\u001b[0m\u001b[0m\n",
      "\u001b[0;32m/Library/Frameworks/Python.framework/Versions/3.9/lib/python3.9/site-packages/pyEX/common/urls.py\u001b[0m in \u001b[0;36m_getIEXCloudSandbox\u001b[0;34m(url, token, version, filter, format)\u001b[0m\n\u001b[1;32m    159\u001b[0m \u001b[0;32mdef\u001b[0m \u001b[0m_getIEXCloudSandbox\u001b[0m\u001b[0;34m(\u001b[0m\u001b[0murl\u001b[0m\u001b[0;34m,\u001b[0m \u001b[0mtoken\u001b[0m\u001b[0;34m=\u001b[0m\u001b[0;34m\"\"\u001b[0m\u001b[0;34m,\u001b[0m \u001b[0mversion\u001b[0m\u001b[0;34m=\u001b[0m\u001b[0;34m\"stable\"\u001b[0m\u001b[0;34m,\u001b[0m \u001b[0mfilter\u001b[0m\u001b[0;34m=\u001b[0m\u001b[0;34m\"\"\u001b[0m\u001b[0;34m,\u001b[0m \u001b[0mformat\u001b[0m\u001b[0;34m=\u001b[0m\u001b[0;34m\"json\"\u001b[0m\u001b[0;34m)\u001b[0m\u001b[0;34m:\u001b[0m\u001b[0;34m\u001b[0m\u001b[0;34m\u001b[0m\u001b[0m\n\u001b[1;32m    160\u001b[0m     \u001b[0;34m\"\"\"for iex cloud\"\"\"\u001b[0m\u001b[0;34m\u001b[0m\u001b[0;34m\u001b[0m\u001b[0m\n\u001b[0;32m--> 161\u001b[0;31m     return _getIEXCloudBase(\n\u001b[0m\u001b[1;32m    162\u001b[0m         \u001b[0m_URL_PREFIX_CLOUD_SANDBOX\u001b[0m\u001b[0;34m,\u001b[0m \u001b[0murl\u001b[0m\u001b[0;34m,\u001b[0m \u001b[0mtoken\u001b[0m\u001b[0;34m,\u001b[0m \u001b[0;34m\"stable\"\u001b[0m\u001b[0;34m,\u001b[0m \u001b[0mfilter\u001b[0m\u001b[0;34m,\u001b[0m \u001b[0mformat\u001b[0m\u001b[0;34m\u001b[0m\u001b[0;34m\u001b[0m\u001b[0m\n\u001b[1;32m    163\u001b[0m     )\n",
      "\u001b[0;32m/Library/Frameworks/Python.framework/Versions/3.9/lib/python3.9/site-packages/pyEX/common/urls.py\u001b[0m in \u001b[0;36m_getIEXCloudBase\u001b[0;34m(base_url, url, token, version, filter, format)\u001b[0m\n\u001b[1;32m    115\u001b[0m             \u001b[0;32mreturn\u001b[0m \u001b[0mresp\u001b[0m\u001b[0;34m.\u001b[0m\u001b[0mjson\u001b[0m\u001b[0;34m(\u001b[0m\u001b[0;34m)\u001b[0m\u001b[0;34m\u001b[0m\u001b[0;34m\u001b[0m\u001b[0m\n\u001b[1;32m    116\u001b[0m         \u001b[0;32mreturn\u001b[0m \u001b[0mresp\u001b[0m\u001b[0;34m.\u001b[0m\u001b[0mtext\u001b[0m\u001b[0;34m\u001b[0m\u001b[0;34m\u001b[0m\u001b[0m\n\u001b[0;32m--> 117\u001b[0;31m     \u001b[0;32mraise\u001b[0m \u001b[0mPyEXception\u001b[0m\u001b[0;34m(\u001b[0m\u001b[0;34m\"Response %d - \"\u001b[0m \u001b[0;34m%\u001b[0m \u001b[0mresp\u001b[0m\u001b[0;34m.\u001b[0m\u001b[0mstatus_code\u001b[0m\u001b[0;34m,\u001b[0m \u001b[0mresp\u001b[0m\u001b[0;34m.\u001b[0m\u001b[0mtext\u001b[0m\u001b[0;34m)\u001b[0m\u001b[0;34m\u001b[0m\u001b[0;34m\u001b[0m\u001b[0m\n\u001b[0m\u001b[1;32m    118\u001b[0m \u001b[0;34m\u001b[0m\u001b[0m\n\u001b[1;32m    119\u001b[0m \u001b[0;34m\u001b[0m\u001b[0m\n",
      "\u001b[0;31mPyEXception\u001b[0m: ('Response 404 - ', 'Not found')"
     ]
    }
   ],
   "source": [
    "c.points('aapl', 'QUOTE-LATESTPRICE')"
   ]
  },
  {
   "cell_type": "markdown",
   "metadata": {},
   "source": [
    "# Stock API"
   ]
  },
  {
   "cell_type": "code",
   "execution_count": null,
   "metadata": {},
   "outputs": [],
   "source": [
    "symbol = 'AAPL'"
   ]
  },
  {
   "cell_type": "markdown",
   "metadata": {},
   "source": [
    "## Advanced Stats"
   ]
  },
  {
   "cell_type": "code",
   "execution_count": null,
   "metadata": {},
   "outputs": [],
   "source": [
    "c.advancedStats(symbol)"
   ]
  },
  {
   "cell_type": "code",
   "execution_count": null,
   "metadata": {},
   "outputs": [],
   "source": [
    "c.advancedStatsDF(symbol)"
   ]
  },
  {
   "cell_type": "markdown",
   "metadata": {},
   "source": [
    "## Balance Sheet"
   ]
  },
  {
   "cell_type": "code",
   "execution_count": null,
   "metadata": {},
   "outputs": [],
   "source": [
    "c.balanceSheet(symbol)"
   ]
  },
  {
   "cell_type": "code",
   "execution_count": null,
   "metadata": {},
   "outputs": [],
   "source": [
    "c.balanceSheetDF(symbol)"
   ]
  },
  {
   "cell_type": "markdown",
   "metadata": {},
   "source": [
    "## Book"
   ]
  },
  {
   "cell_type": "code",
   "execution_count": null,
   "metadata": {},
   "outputs": [],
   "source": [
    "c.book(symbol)"
   ]
  },
  {
   "cell_type": "code",
   "execution_count": null,
   "metadata": {},
   "outputs": [],
   "source": [
    "c.bookDF(symbol).head()"
   ]
  },
  {
   "cell_type": "markdown",
   "metadata": {},
   "source": [
    "## Cashflow"
   ]
  },
  {
   "cell_type": "code",
   "execution_count": null,
   "metadata": {},
   "outputs": [],
   "source": [
    "c.cashFlow(symbol)"
   ]
  },
  {
   "cell_type": "code",
   "execution_count": null,
   "metadata": {},
   "outputs": [],
   "source": [
    "c.cashFlowDF(symbol)"
   ]
  },
  {
   "cell_type": "markdown",
   "metadata": {},
   "source": [
    "## Collections"
   ]
  },
  {
   "cell_type": "code",
   "execution_count": null,
   "metadata": {},
   "outputs": [],
   "source": [
    "c.collections?"
   ]
  },
  {
   "cell_type": "code",
   "execution_count": null,
   "metadata": {},
   "outputs": [],
   "source": [
    "c.collectionsDF?"
   ]
  },
  {
   "cell_type": "markdown",
   "metadata": {},
   "source": [
    "## Company"
   ]
  },
  {
   "cell_type": "code",
   "execution_count": null,
   "metadata": {},
   "outputs": [],
   "source": [
    "c.company(symbol)"
   ]
  },
  {
   "cell_type": "code",
   "execution_count": null,
   "metadata": {},
   "outputs": [],
   "source": [
    "c.companyDF(symbol)"
   ]
  },
  {
   "cell_type": "markdown",
   "metadata": {},
   "source": [
    "## Delayed Quote"
   ]
  },
  {
   "cell_type": "code",
   "execution_count": null,
   "metadata": {},
   "outputs": [],
   "source": [
    "c.delayedQuote(symbol)"
   ]
  },
  {
   "cell_type": "code",
   "execution_count": null,
   "metadata": {},
   "outputs": [],
   "source": [
    "c.delayedQuoteDF(symbol)"
   ]
  },
  {
   "cell_type": "markdown",
   "metadata": {},
   "source": [
    "## Dividends"
   ]
  },
  {
   "cell_type": "code",
   "execution_count": null,
   "metadata": {},
   "outputs": [],
   "source": [
    "c.dividends(symbol)"
   ]
  },
  {
   "cell_type": "code",
   "execution_count": null,
   "metadata": {},
   "outputs": [],
   "source": [
    "c.dividendsDF(symbol)"
   ]
  },
  {
   "cell_type": "markdown",
   "metadata": {},
   "source": [
    "## Earnings"
   ]
  },
  {
   "cell_type": "code",
   "execution_count": null,
   "metadata": {},
   "outputs": [],
   "source": [
    "c.earnings(symbol)"
   ]
  },
  {
   "cell_type": "code",
   "execution_count": null,
   "metadata": {},
   "outputs": [],
   "source": [
    "c.earningsDF(symbol)"
   ]
  },
  {
   "cell_type": "markdown",
   "metadata": {},
   "source": [
    "## Earnings Today"
   ]
  },
  {
   "cell_type": "code",
   "execution_count": null,
   "metadata": {},
   "outputs": [],
   "source": [
    "c.earningsToday()"
   ]
  },
  {
   "cell_type": "code",
   "execution_count": null,
   "metadata": {},
   "outputs": [],
   "source": [
    "c.earningsTodayDF().head()"
   ]
  },
  {
   "cell_type": "markdown",
   "metadata": {},
   "source": [
    "## Effective Spread"
   ]
  },
  {
   "cell_type": "code",
   "execution_count": null,
   "metadata": {},
   "outputs": [],
   "source": [
    "c.spread(symbol)"
   ]
  },
  {
   "cell_type": "code",
   "execution_count": null,
   "metadata": {},
   "outputs": [],
   "source": [
    "c.spreadDF(symbol)"
   ]
  },
  {
   "cell_type": "markdown",
   "metadata": {},
   "source": [
    "## Estimates"
   ]
  },
  {
   "cell_type": "code",
   "execution_count": null,
   "metadata": {},
   "outputs": [],
   "source": [
    "c.estimates(symbol)"
   ]
  },
  {
   "cell_type": "code",
   "execution_count": null,
   "metadata": {},
   "outputs": [],
   "source": [
    "c.estimatesDF(symbol)"
   ]
  },
  {
   "cell_type": "markdown",
   "metadata": {},
   "source": [
    "## Financials"
   ]
  },
  {
   "cell_type": "code",
   "execution_count": null,
   "metadata": {},
   "outputs": [],
   "source": [
    "c.financials(symbol)"
   ]
  },
  {
   "cell_type": "code",
   "execution_count": null,
   "metadata": {},
   "outputs": [],
   "source": [
    "c.financialsDF(symbol)"
   ]
  },
  {
   "cell_type": "markdown",
   "metadata": {},
   "source": [
    "## Fund Ownership"
   ]
  },
  {
   "cell_type": "code",
   "execution_count": null,
   "metadata": {},
   "outputs": [],
   "source": [
    "c.fundOwnership(symbol)"
   ]
  },
  {
   "cell_type": "code",
   "execution_count": null,
   "metadata": {},
   "outputs": [],
   "source": [
    "c.fundOwnershipDF(symbol)"
   ]
  },
  {
   "cell_type": "markdown",
   "metadata": {},
   "source": [
    "## Historical Prices"
   ]
  },
  {
   "cell_type": "code",
   "execution_count": null,
   "metadata": {},
   "outputs": [],
   "source": [
    "c.chart(symbol)"
   ]
  },
  {
   "cell_type": "code",
   "execution_count": null,
   "metadata": {},
   "outputs": [],
   "source": [
    "c.chartDF(symbol)"
   ]
  },
  {
   "cell_type": "markdown",
   "metadata": {},
   "source": [
    "## Income Statement"
   ]
  },
  {
   "cell_type": "code",
   "execution_count": null,
   "metadata": {},
   "outputs": [],
   "source": [
    "c.incomeStatement(symbol)"
   ]
  },
  {
   "cell_type": "code",
   "execution_count": null,
   "metadata": {},
   "outputs": [],
   "source": [
    "c.incomeStatementDF(symbol)"
   ]
  },
  {
   "cell_type": "markdown",
   "metadata": {},
   "source": [
    "## Insider Roster"
   ]
  },
  {
   "cell_type": "code",
   "execution_count": null,
   "metadata": {},
   "outputs": [],
   "source": [
    "c.insiderRoster(symbol)"
   ]
  },
  {
   "cell_type": "code",
   "execution_count": null,
   "metadata": {},
   "outputs": [],
   "source": [
    "c.insiderRosterDF(symbol)"
   ]
  },
  {
   "cell_type": "markdown",
   "metadata": {},
   "source": [
    "## Insider Summary"
   ]
  },
  {
   "cell_type": "code",
   "execution_count": null,
   "metadata": {},
   "outputs": [],
   "source": [
    "c.insiderSummary(symbol)"
   ]
  },
  {
   "cell_type": "code",
   "execution_count": null,
   "metadata": {},
   "outputs": [],
   "source": [
    "c.insiderSummaryDF(symbol)"
   ]
  },
  {
   "cell_type": "markdown",
   "metadata": {},
   "source": [
    "## Insider Transactions"
   ]
  },
  {
   "cell_type": "code",
   "execution_count": null,
   "metadata": {},
   "outputs": [],
   "source": [
    "c.insiderTransactions(symbol)[:5]"
   ]
  },
  {
   "cell_type": "code",
   "execution_count": null,
   "metadata": {},
   "outputs": [],
   "source": [
    "c.insiderTransactionsDF(symbol)"
   ]
  },
  {
   "cell_type": "markdown",
   "metadata": {},
   "source": [
    "## Institutional Ownership"
   ]
  },
  {
   "cell_type": "code",
   "execution_count": null,
   "metadata": {},
   "outputs": [],
   "source": [
    "c.institutionalOwnership(symbol)"
   ]
  },
  {
   "cell_type": "code",
   "execution_count": null,
   "metadata": {},
   "outputs": [],
   "source": [
    "c.institutionalOwnershipDF(symbol)"
   ]
  },
  {
   "cell_type": "markdown",
   "metadata": {},
   "source": [
    "## Intraday Prices"
   ]
  },
  {
   "cell_type": "code",
   "execution_count": null,
   "metadata": {},
   "outputs": [],
   "source": [
    "c.intraday(symbol)[:5]"
   ]
  },
  {
   "cell_type": "code",
   "execution_count": null,
   "metadata": {},
   "outputs": [],
   "source": [
    "c.intradayDF(symbol).head()"
   ]
  },
  {
   "cell_type": "markdown",
   "metadata": {},
   "source": [
    "## IPO Calendar"
   ]
  },
  {
   "cell_type": "code",
   "execution_count": null,
   "metadata": {},
   "outputs": [],
   "source": [
    "c.ipoToday()"
   ]
  },
  {
   "cell_type": "code",
   "execution_count": null,
   "metadata": {},
   "outputs": [],
   "source": [
    "c.ipoTodayDF()"
   ]
  },
  {
   "cell_type": "code",
   "execution_count": null,
   "metadata": {},
   "outputs": [],
   "source": [
    "c.ipoUpcoming()"
   ]
  },
  {
   "cell_type": "code",
   "execution_count": null,
   "metadata": {},
   "outputs": [],
   "source": [
    "c.ipoUpcomingDF()"
   ]
  },
  {
   "cell_type": "markdown",
   "metadata": {},
   "source": [
    "## Key Stats"
   ]
  },
  {
   "cell_type": "code",
   "execution_count": null,
   "metadata": {},
   "outputs": [],
   "source": [
    "c.keyStats(symbol)"
   ]
  },
  {
   "cell_type": "code",
   "execution_count": null,
   "metadata": {},
   "outputs": [],
   "source": [
    "c.keyStatsDF(symbol)"
   ]
  },
  {
   "cell_type": "markdown",
   "metadata": {},
   "source": [
    "## Largest Trades"
   ]
  },
  {
   "cell_type": "code",
   "execution_count": null,
   "metadata": {},
   "outputs": [],
   "source": [
    "c.largestTrades(symbol)"
   ]
  },
  {
   "cell_type": "code",
   "execution_count": null,
   "metadata": {},
   "outputs": [],
   "source": [
    "c.largestTradesDF(symbol)"
   ]
  },
  {
   "cell_type": "markdown",
   "metadata": {},
   "source": [
    "## List"
   ]
  },
  {
   "cell_type": "code",
   "execution_count": null,
   "metadata": {},
   "outputs": [],
   "source": [
    "c.list()[:5]"
   ]
  },
  {
   "cell_type": "code",
   "execution_count": null,
   "metadata": {},
   "outputs": [],
   "source": [
    "c.listDF().head()"
   ]
  },
  {
   "cell_type": "markdown",
   "metadata": {},
   "source": [
    "## Logo"
   ]
  },
  {
   "cell_type": "code",
   "execution_count": null,
   "metadata": {},
   "outputs": [],
   "source": [
    "c.logo(symbol)"
   ]
  },
  {
   "cell_type": "code",
   "execution_count": null,
   "metadata": {},
   "outputs": [],
   "source": [
    "c.logoPNG(symbol) # Not available for sandbox"
   ]
  },
  {
   "cell_type": "code",
   "execution_count": null,
   "metadata": {},
   "outputs": [],
   "source": [
    "c.logoNotebook(symbol) # Not available for sandbox"
   ]
  },
  {
   "cell_type": "markdown",
   "metadata": {},
   "source": [
    "## Market Volume"
   ]
  },
  {
   "cell_type": "code",
   "execution_count": null,
   "metadata": {},
   "outputs": [],
   "source": [
    "c.marketVolume()[:5]"
   ]
  },
  {
   "cell_type": "code",
   "execution_count": null,
   "metadata": {},
   "outputs": [],
   "source": [
    "c.marketVolumeDF()"
   ]
  },
  {
   "cell_type": "markdown",
   "metadata": {},
   "source": [
    "## News"
   ]
  },
  {
   "cell_type": "code",
   "execution_count": null,
   "metadata": {},
   "outputs": [],
   "source": [
    "c.news(symbol)[:5]"
   ]
  },
  {
   "cell_type": "code",
   "execution_count": null,
   "metadata": {},
   "outputs": [],
   "source": [
    "c.newsDF(symbol).head()"
   ]
  },
  {
   "cell_type": "code",
   "execution_count": null,
   "metadata": {},
   "outputs": [],
   "source": [
    "c.marketNews()[:5]"
   ]
  },
  {
   "cell_type": "code",
   "execution_count": null,
   "metadata": {},
   "outputs": [],
   "source": [
    "c.marketNewsDF().head()"
   ]
  },
  {
   "cell_type": "markdown",
   "metadata": {},
   "source": [
    "## OHLC"
   ]
  },
  {
   "cell_type": "code",
   "execution_count": null,
   "metadata": {},
   "outputs": [],
   "source": [
    "c.ohlc(symbol)"
   ]
  },
  {
   "cell_type": "code",
   "execution_count": null,
   "metadata": {},
   "outputs": [],
   "source": [
    "c.ohlcDF(symbol)"
   ]
  },
  {
   "cell_type": "markdown",
   "metadata": {},
   "source": [
    "## Open/Close Price"
   ]
  },
  {
   "cell_type": "code",
   "execution_count": null,
   "metadata": {},
   "outputs": [],
   "source": [
    "c.ohlc(symbol)"
   ]
  },
  {
   "cell_type": "code",
   "execution_count": null,
   "metadata": {},
   "outputs": [],
   "source": [
    "c.ohlcDF(symbol)"
   ]
  },
  {
   "cell_type": "markdown",
   "metadata": {},
   "source": [
    "## Options"
   ]
  },
  {
   "cell_type": "code",
   "execution_count": null,
   "metadata": {},
   "outputs": [],
   "source": [
    "exps = c.optionExpirations(symbol)\n",
    "exps"
   ]
  },
  {
   "cell_type": "code",
   "execution_count": null,
   "metadata": {},
   "outputs": [],
   "source": [
    "c.options(symbol, exps[0])[:5]"
   ]
  },
  {
   "cell_type": "code",
   "execution_count": null,
   "metadata": {},
   "outputs": [],
   "source": [
    "c.optionsDF(symbol, exps[0]).head()"
   ]
  },
  {
   "cell_type": "markdown",
   "metadata": {},
   "source": [
    "## Peers"
   ]
  },
  {
   "cell_type": "code",
   "execution_count": null,
   "metadata": {},
   "outputs": [],
   "source": [
    "c.peers(symbol)"
   ]
  },
  {
   "cell_type": "code",
   "execution_count": null,
   "metadata": {},
   "outputs": [],
   "source": [
    "c.peersDF(symbol)"
   ]
  },
  {
   "cell_type": "markdown",
   "metadata": {},
   "source": [
    "## Previous Day Price"
   ]
  },
  {
   "cell_type": "code",
   "execution_count": null,
   "metadata": {},
   "outputs": [],
   "source": [
    "c.yesterday(symbol)"
   ]
  },
  {
   "cell_type": "code",
   "execution_count": null,
   "metadata": {},
   "outputs": [],
   "source": [
    "c.yesterdayDF(symbol)"
   ]
  },
  {
   "cell_type": "code",
   "execution_count": null,
   "metadata": {},
   "outputs": [],
   "source": [
    "c.marketYesterday()['A']"
   ]
  },
  {
   "cell_type": "code",
   "execution_count": null,
   "metadata": {},
   "outputs": [],
   "source": [
    "c.marketYesterdayDF().head()"
   ]
  },
  {
   "cell_type": "markdown",
   "metadata": {},
   "source": [
    "## Price"
   ]
  },
  {
   "cell_type": "code",
   "execution_count": null,
   "metadata": {},
   "outputs": [],
   "source": [
    "c.price(symbol)"
   ]
  },
  {
   "cell_type": "code",
   "execution_count": null,
   "metadata": {},
   "outputs": [],
   "source": [
    "c.priceDF(symbol)"
   ]
  },
  {
   "cell_type": "markdown",
   "metadata": {},
   "source": [
    "## Price Target"
   ]
  },
  {
   "cell_type": "code",
   "execution_count": null,
   "metadata": {},
   "outputs": [],
   "source": [
    "c.priceTarget(symbol)"
   ]
  },
  {
   "cell_type": "code",
   "execution_count": null,
   "metadata": {},
   "outputs": [],
   "source": [
    "c.priceTargetDF(symbol)"
   ]
  },
  {
   "cell_type": "markdown",
   "metadata": {},
   "source": [
    "## Quote"
   ]
  },
  {
   "cell_type": "code",
   "execution_count": null,
   "metadata": {},
   "outputs": [],
   "source": [
    "c.quote(symbol)"
   ]
  },
  {
   "cell_type": "code",
   "execution_count": null,
   "metadata": {},
   "outputs": [],
   "source": [
    "c.quoteDF(symbol)"
   ]
  },
  {
   "cell_type": "markdown",
   "metadata": {},
   "source": [
    "# Recommendation Trends"
   ]
  },
  {
   "cell_type": "code",
   "execution_count": null,
   "metadata": {},
   "outputs": [],
   "source": []
  },
  {
   "cell_type": "code",
   "execution_count": null,
   "metadata": {},
   "outputs": [],
   "source": []
  },
  {
   "cell_type": "markdown",
   "metadata": {},
   "source": [
    "# Sector Performance"
   ]
  },
  {
   "cell_type": "code",
   "execution_count": null,
   "metadata": {},
   "outputs": [],
   "source": [
    "c.sectorPerformance()"
   ]
  },
  {
   "cell_type": "code",
   "execution_count": null,
   "metadata": {},
   "outputs": [],
   "source": [
    "c.sectorPerformanceDF()"
   ]
  },
  {
   "cell_type": "markdown",
   "metadata": {},
   "source": [
    "## Splits"
   ]
  },
  {
   "cell_type": "code",
   "execution_count": null,
   "metadata": {},
   "outputs": [],
   "source": [
    "c.splits(symbol)"
   ]
  },
  {
   "cell_type": "code",
   "execution_count": null,
   "metadata": {},
   "outputs": [],
   "source": [
    "c.splitsDF(symbol)"
   ]
  },
  {
   "cell_type": "markdown",
   "metadata": {},
   "source": [
    "## Upcoming Events"
   ]
  },
  {
   "cell_type": "code",
   "execution_count": null,
   "metadata": {},
   "outputs": [],
   "source": []
  },
  {
   "cell_type": "code",
   "execution_count": null,
   "metadata": {},
   "outputs": [],
   "source": []
  },
  {
   "cell_type": "markdown",
   "metadata": {},
   "source": [
    "## Volume By Venue"
   ]
  },
  {
   "cell_type": "code",
   "execution_count": null,
   "metadata": {},
   "outputs": [],
   "source": [
    "c.volumeByVenue(symbol)"
   ]
  },
  {
   "cell_type": "code",
   "execution_count": null,
   "metadata": {},
   "outputs": [],
   "source": [
    "c.volumeByVenueDF(symbol)"
   ]
  },
  {
   "cell_type": "markdown",
   "metadata": {},
   "source": [
    "# Alternative"
   ]
  },
  {
   "cell_type": "markdown",
   "metadata": {},
   "source": [
    "## crypto"
   ]
  },
  {
   "cell_type": "code",
   "execution_count": null,
   "metadata": {},
   "outputs": [],
   "source": [
    "# c.crypto()"
   ]
  },
  {
   "cell_type": "code",
   "execution_count": null,
   "metadata": {},
   "outputs": [],
   "source": [
    "# c.cryptoDF()"
   ]
  },
  {
   "cell_type": "markdown",
   "metadata": {},
   "source": [
    "## sentiment"
   ]
  },
  {
   "cell_type": "code",
   "execution_count": null,
   "metadata": {},
   "outputs": [],
   "source": [
    "c.sentiment(symbol)"
   ]
  },
  {
   "cell_type": "code",
   "execution_count": null,
   "metadata": {},
   "outputs": [],
   "source": [
    "c.sentimentDF(symbol)"
   ]
  },
  {
   "cell_type": "markdown",
   "metadata": {},
   "source": [
    "## CEO Compensation"
   ]
  },
  {
   "cell_type": "code",
   "execution_count": null,
   "metadata": {},
   "outputs": [],
   "source": [
    "c.ceoCompensation(symbol)"
   ]
  },
  {
   "cell_type": "code",
   "execution_count": null,
   "metadata": {},
   "outputs": [],
   "source": [
    "c.ceoCompensationDF(symbol)"
   ]
  },
  {
   "cell_type": "markdown",
   "metadata": {},
   "source": [
    "# Forex"
   ]
  },
  {
   "cell_type": "markdown",
   "metadata": {},
   "source": [
    "## Exchange Rates"
   ]
  },
  {
   "cell_type": "code",
   "execution_count": null,
   "metadata": {},
   "outputs": [],
   "source": []
  },
  {
   "cell_type": "code",
   "execution_count": null,
   "metadata": {},
   "outputs": [],
   "source": []
  },
  {
   "cell_type": "markdown",
   "metadata": {},
   "source": [
    "# IEX Data"
   ]
  },
  {
   "cell_type": "markdown",
   "metadata": {},
   "source": [
    "## TOPS"
   ]
  },
  {
   "cell_type": "code",
   "execution_count": null,
   "metadata": {},
   "outputs": [],
   "source": []
  },
  {
   "cell_type": "code",
   "execution_count": null,
   "metadata": {},
   "outputs": [],
   "source": []
  },
  {
   "cell_type": "markdown",
   "metadata": {},
   "source": [
    "## Last"
   ]
  },
  {
   "cell_type": "code",
   "execution_count": null,
   "metadata": {},
   "outputs": [],
   "source": []
  },
  {
   "cell_type": "code",
   "execution_count": null,
   "metadata": {},
   "outputs": [],
   "source": []
  },
  {
   "cell_type": "markdown",
   "metadata": {},
   "source": [
    "## DEEP"
   ]
  },
  {
   "cell_type": "code",
   "execution_count": null,
   "metadata": {},
   "outputs": [],
   "source": []
  },
  {
   "cell_type": "code",
   "execution_count": null,
   "metadata": {},
   "outputs": [],
   "source": []
  },
  {
   "cell_type": "markdown",
   "metadata": {},
   "source": [
    "## DEEP Auction"
   ]
  },
  {
   "cell_type": "code",
   "execution_count": null,
   "metadata": {},
   "outputs": [],
   "source": []
  },
  {
   "cell_type": "code",
   "execution_count": null,
   "metadata": {},
   "outputs": [],
   "source": []
  },
  {
   "cell_type": "markdown",
   "metadata": {},
   "source": [
    "## DEEP Book"
   ]
  },
  {
   "cell_type": "code",
   "execution_count": null,
   "metadata": {},
   "outputs": [],
   "source": []
  },
  {
   "cell_type": "code",
   "execution_count": null,
   "metadata": {},
   "outputs": [],
   "source": []
  },
  {
   "cell_type": "markdown",
   "metadata": {},
   "source": [
    "## DEEP Operational Halt Status"
   ]
  },
  {
   "cell_type": "code",
   "execution_count": null,
   "metadata": {},
   "outputs": [],
   "source": []
  },
  {
   "cell_type": "code",
   "execution_count": null,
   "metadata": {},
   "outputs": [],
   "source": []
  },
  {
   "cell_type": "markdown",
   "metadata": {},
   "source": [
    "## DEEP Official Price"
   ]
  },
  {
   "cell_type": "code",
   "execution_count": null,
   "metadata": {},
   "outputs": [],
   "source": []
  },
  {
   "cell_type": "code",
   "execution_count": null,
   "metadata": {},
   "outputs": [],
   "source": []
  },
  {
   "cell_type": "markdown",
   "metadata": {},
   "source": [
    "## DEEP Security Event"
   ]
  },
  {
   "cell_type": "code",
   "execution_count": null,
   "metadata": {},
   "outputs": [],
   "source": []
  },
  {
   "cell_type": "code",
   "execution_count": null,
   "metadata": {},
   "outputs": [],
   "source": []
  },
  {
   "cell_type": "markdown",
   "metadata": {},
   "source": [
    "## DEEP Short Sale Price Test Status"
   ]
  },
  {
   "cell_type": "code",
   "execution_count": null,
   "metadata": {},
   "outputs": [],
   "source": []
  },
  {
   "cell_type": "code",
   "execution_count": null,
   "metadata": {},
   "outputs": [],
   "source": []
  },
  {
   "cell_type": "markdown",
   "metadata": {},
   "source": [
    "## DEEP System Event"
   ]
  },
  {
   "cell_type": "code",
   "execution_count": null,
   "metadata": {},
   "outputs": [],
   "source": []
  },
  {
   "cell_type": "code",
   "execution_count": null,
   "metadata": {},
   "outputs": [],
   "source": []
  },
  {
   "cell_type": "markdown",
   "metadata": {},
   "source": [
    "## DEEP Trades"
   ]
  },
  {
   "cell_type": "code",
   "execution_count": null,
   "metadata": {},
   "outputs": [],
   "source": []
  },
  {
   "cell_type": "code",
   "execution_count": null,
   "metadata": {},
   "outputs": [],
   "source": []
  },
  {
   "cell_type": "markdown",
   "metadata": {},
   "source": [
    "## DEEP Trade Break"
   ]
  },
  {
   "cell_type": "code",
   "execution_count": null,
   "metadata": {},
   "outputs": [],
   "source": []
  },
  {
   "cell_type": "code",
   "execution_count": null,
   "metadata": {},
   "outputs": [],
   "source": []
  },
  {
   "cell_type": "markdown",
   "metadata": {},
   "source": [
    "## DEEP Trading Status"
   ]
  },
  {
   "cell_type": "code",
   "execution_count": null,
   "metadata": {},
   "outputs": [],
   "source": []
  },
  {
   "cell_type": "code",
   "execution_count": null,
   "metadata": {},
   "outputs": [],
   "source": []
  },
  {
   "cell_type": "markdown",
   "metadata": {},
   "source": [
    "## Listed Regulation SHO Threshold Securities List In Dev"
   ]
  },
  {
   "cell_type": "code",
   "execution_count": null,
   "metadata": {},
   "outputs": [],
   "source": []
  },
  {
   "cell_type": "code",
   "execution_count": null,
   "metadata": {},
   "outputs": [],
   "source": []
  },
  {
   "cell_type": "markdown",
   "metadata": {},
   "source": [
    "## Listed Short Interest List In Dev"
   ]
  },
  {
   "cell_type": "code",
   "execution_count": null,
   "metadata": {},
   "outputs": [],
   "source": []
  },
  {
   "cell_type": "code",
   "execution_count": null,
   "metadata": {},
   "outputs": [],
   "source": []
  },
  {
   "cell_type": "markdown",
   "metadata": {},
   "source": [
    "## Stats Historical Daily In Dev"
   ]
  },
  {
   "cell_type": "code",
   "execution_count": null,
   "metadata": {},
   "outputs": [],
   "source": []
  },
  {
   "cell_type": "code",
   "execution_count": null,
   "metadata": {},
   "outputs": [],
   "source": []
  },
  {
   "cell_type": "markdown",
   "metadata": {},
   "source": [
    "## Stats Historical Summary"
   ]
  },
  {
   "cell_type": "code",
   "execution_count": null,
   "metadata": {},
   "outputs": [],
   "source": []
  },
  {
   "cell_type": "code",
   "execution_count": null,
   "metadata": {},
   "outputs": [],
   "source": []
  },
  {
   "cell_type": "markdown",
   "metadata": {},
   "source": [
    "## Stats Intraday"
   ]
  },
  {
   "cell_type": "code",
   "execution_count": null,
   "metadata": {},
   "outputs": [],
   "source": []
  },
  {
   "cell_type": "code",
   "execution_count": null,
   "metadata": {},
   "outputs": [],
   "source": []
  },
  {
   "cell_type": "markdown",
   "metadata": {},
   "source": [
    "## Stats Recent"
   ]
  },
  {
   "cell_type": "code",
   "execution_count": null,
   "metadata": {},
   "outputs": [],
   "source": []
  },
  {
   "cell_type": "code",
   "execution_count": null,
   "metadata": {},
   "outputs": [],
   "source": []
  },
  {
   "cell_type": "markdown",
   "metadata": {},
   "source": [
    "## Stats Records"
   ]
  },
  {
   "cell_type": "code",
   "execution_count": null,
   "metadata": {},
   "outputs": [],
   "source": []
  },
  {
   "cell_type": "code",
   "execution_count": null,
   "metadata": {},
   "outputs": [],
   "source": []
  },
  {
   "cell_type": "markdown",
   "metadata": {},
   "source": [
    "# API Metadata"
   ]
  },
  {
   "cell_type": "code",
   "execution_count": null,
   "metadata": {},
   "outputs": [],
   "source": []
  },
  {
   "cell_type": "code",
   "execution_count": null,
   "metadata": {},
   "outputs": [],
   "source": []
  },
  {
   "cell_type": "code",
   "execution_count": null,
   "metadata": {},
   "outputs": [],
   "source": []
  },
  {
   "cell_type": "code",
   "execution_count": null,
   "metadata": {},
   "outputs": [],
   "source": []
  },
  {
   "cell_type": "code",
   "execution_count": null,
   "metadata": {},
   "outputs": [],
   "source": []
  },
  {
   "cell_type": "code",
   "execution_count": null,
   "metadata": {},
   "outputs": [],
   "source": []
  },
  {
   "cell_type": "code",
   "execution_count": null,
   "metadata": {},
   "outputs": [],
   "source": []
  },
  {
   "cell_type": "code",
   "execution_count": null,
   "metadata": {},
   "outputs": [],
   "source": []
  },
  {
   "cell_type": "code",
   "execution_count": null,
   "metadata": {},
   "outputs": [],
   "source": []
  },
  {
   "cell_type": "code",
   "execution_count": null,
   "metadata": {},
   "outputs": [],
   "source": []
  },
  {
   "cell_type": "code",
   "execution_count": null,
   "metadata": {},
   "outputs": [],
   "source": []
  }
 ],
 "metadata": {
  "kernelspec": {
   "display_name": "Python 3.9.2 64-bit",
   "language": "python",
   "name": "python39264bitc11d2e913d094d80a184798cff524219"
  },
  "language_info": {
   "codemirror_mode": {
    "name": "ipython",
    "version": 3
   },
   "file_extension": ".py",
   "mimetype": "text/x-python",
   "name": "python",
   "nbconvert_exporter": "python",
   "pygments_lexer": "ipython3",
   "version": "3.9.2-final"
  }
 },
 "nbformat": 4,
 "nbformat_minor": 4
}